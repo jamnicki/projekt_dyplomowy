{
 "cells": [
  {
   "cell_type": "code",
   "execution_count": 1,
   "metadata": {},
   "outputs": [
    {
     "data": {
      "application/javascript": "(function(root) {\n  function now() {\n    return new Date();\n  }\n\n  const force = true;\n\n  if (typeof root._bokeh_onload_callbacks === \"undefined\" || force === true) {\n    root._bokeh_onload_callbacks = [];\n    root._bokeh_is_loading = undefined;\n  }\n\nconst JS_MIME_TYPE = 'application/javascript';\n  const HTML_MIME_TYPE = 'text/html';\n  const EXEC_MIME_TYPE = 'application/vnd.bokehjs_exec.v0+json';\n  const CLASS_NAME = 'output_bokeh rendered_html';\n\n  /**\n   * Render data to the DOM node\n   */\n  function render(props, node) {\n    const script = document.createElement(\"script\");\n    node.appendChild(script);\n  }\n\n  /**\n   * Handle when an output is cleared or removed\n   */\n  function handleClearOutput(event, handle) {\n    const cell = handle.cell;\n\n    const id = cell.output_area._bokeh_element_id;\n    const server_id = cell.output_area._bokeh_server_id;\n    // Clean up Bokeh references\n    if (id != null && id in Bokeh.index) {\n      Bokeh.index[id].model.document.clear();\n      delete Bokeh.index[id];\n    }\n\n    if (server_id !== undefined) {\n      // Clean up Bokeh references\n      const cmd_clean = \"from bokeh.io.state import curstate; print(curstate().uuid_to_server['\" + server_id + \"'].get_sessions()[0].document.roots[0]._id)\";\n      cell.notebook.kernel.execute(cmd_clean, {\n        iopub: {\n          output: function(msg) {\n            const id = msg.content.text.trim();\n            if (id in Bokeh.index) {\n              Bokeh.index[id].model.document.clear();\n              delete Bokeh.index[id];\n            }\n          }\n        }\n      });\n      // Destroy server and session\n      const cmd_destroy = \"import bokeh.io.notebook as ion; ion.destroy_server('\" + server_id + \"')\";\n      cell.notebook.kernel.execute(cmd_destroy);\n    }\n  }\n\n  /**\n   * Handle when a new output is added\n   */\n  function handleAddOutput(event, handle) {\n    const output_area = handle.output_area;\n    const output = handle.output;\n\n    // limit handleAddOutput to display_data with EXEC_MIME_TYPE content only\n    if ((output.output_type != \"display_data\") || (!Object.prototype.hasOwnProperty.call(output.data, EXEC_MIME_TYPE))) {\n      return\n    }\n\n    const toinsert = output_area.element.find(\".\" + CLASS_NAME.split(' ')[0]);\n\n    if (output.metadata[EXEC_MIME_TYPE][\"id\"] !== undefined) {\n      toinsert[toinsert.length - 1].firstChild.textContent = output.data[JS_MIME_TYPE];\n      // store reference to embed id on output_area\n      output_area._bokeh_element_id = output.metadata[EXEC_MIME_TYPE][\"id\"];\n    }\n    if (output.metadata[EXEC_MIME_TYPE][\"server_id\"] !== undefined) {\n      const bk_div = document.createElement(\"div\");\n      bk_div.innerHTML = output.data[HTML_MIME_TYPE];\n      const script_attrs = bk_div.children[0].attributes;\n      for (let i = 0; i < script_attrs.length; i++) {\n        toinsert[toinsert.length - 1].firstChild.setAttribute(script_attrs[i].name, script_attrs[i].value);\n        toinsert[toinsert.length - 1].firstChild.textContent = bk_div.children[0].textContent\n      }\n      // store reference to server id on output_area\n      output_area._bokeh_server_id = output.metadata[EXEC_MIME_TYPE][\"server_id\"];\n    }\n  }\n\n  function register_renderer(events, OutputArea) {\n\n    function append_mime(data, metadata, element) {\n      // create a DOM node to render to\n      const toinsert = this.create_output_subarea(\n        metadata,\n        CLASS_NAME,\n        EXEC_MIME_TYPE\n      );\n      this.keyboard_manager.register_events(toinsert);\n      // Render to node\n      const props = {data: data, metadata: metadata[EXEC_MIME_TYPE]};\n      render(props, toinsert[toinsert.length - 1]);\n      element.append(toinsert);\n      return toinsert\n    }\n\n    /* Handle when an output is cleared or removed */\n    events.on('clear_output.CodeCell', handleClearOutput);\n    events.on('delete.Cell', handleClearOutput);\n\n    /* Handle when a new output is added */\n    events.on('output_added.OutputArea', handleAddOutput);\n\n    /**\n     * Register the mime type and append_mime function with output_area\n     */\n    OutputArea.prototype.register_mime_type(EXEC_MIME_TYPE, append_mime, {\n      /* Is output safe? */\n      safe: true,\n      /* Index of renderer in `output_area.display_order` */\n      index: 0\n    });\n  }\n\n  // register the mime type if in Jupyter Notebook environment and previously unregistered\n  if (root.Jupyter !== undefined) {\n    const events = require('base/js/events');\n    const OutputArea = require('notebook/js/outputarea').OutputArea;\n\n    if (OutputArea.prototype.mime_types().indexOf(EXEC_MIME_TYPE) == -1) {\n      register_renderer(events, OutputArea);\n    }\n  }\n  if (typeof (root._bokeh_timeout) === \"undefined\" || force === true) {\n    root._bokeh_timeout = Date.now() + 5000;\n    root._bokeh_failed_load = false;\n  }\n\n  const NB_LOAD_WARNING = {'data': {'text/html':\n     \"<div style='background-color: #fdd'>\\n\"+\n     \"<p>\\n\"+\n     \"BokehJS does not appear to have successfully loaded. If loading BokehJS from CDN, this \\n\"+\n     \"may be due to a slow or bad network connection. Possible fixes:\\n\"+\n     \"</p>\\n\"+\n     \"<ul>\\n\"+\n     \"<li>re-rerun `output_notebook()` to attempt to load from CDN again, or</li>\\n\"+\n     \"<li>use INLINE resources instead, as so:</li>\\n\"+\n     \"</ul>\\n\"+\n     \"<code>\\n\"+\n     \"from bokeh.resources import INLINE\\n\"+\n     \"output_notebook(resources=INLINE)\\n\"+\n     \"</code>\\n\"+\n     \"</div>\"}};\n\n  function display_loaded() {\n    const el = document.getElementById(null);\n    if (el != null) {\n      el.textContent = \"BokehJS is loading...\";\n    }\n    if (root.Bokeh !== undefined) {\n      if (el != null) {\n        el.textContent = \"BokehJS \" + root.Bokeh.version + \" successfully loaded.\";\n      }\n    } else if (Date.now() < root._bokeh_timeout) {\n      setTimeout(display_loaded, 100)\n    }\n  }\n\n  function run_callbacks() {\n    try {\n      root._bokeh_onload_callbacks.forEach(function(callback) {\n        if (callback != null)\n          callback();\n      });\n    } finally {\n      delete root._bokeh_onload_callbacks\n    }\n    console.debug(\"Bokeh: all callbacks have finished\");\n  }\n\n  function load_libs(css_urls, js_urls, callback) {\n    if (css_urls == null) css_urls = [];\n    if (js_urls == null) js_urls = [];\n\n    root._bokeh_onload_callbacks.push(callback);\n    if (root._bokeh_is_loading > 0) {\n      console.debug(\"Bokeh: BokehJS is being loaded, scheduling callback at\", now());\n      return null;\n    }\n    if (js_urls == null || js_urls.length === 0) {\n      run_callbacks();\n      return null;\n    }\n    console.debug(\"Bokeh: BokehJS not loaded, scheduling load and callback at\", now());\n    root._bokeh_is_loading = css_urls.length + js_urls.length;\n\n    function on_load() {\n      root._bokeh_is_loading--;\n      if (root._bokeh_is_loading === 0) {\n        console.debug(\"Bokeh: all BokehJS libraries/stylesheets loaded\");\n        run_callbacks()\n      }\n    }\n\n    function on_error(url) {\n      console.error(\"failed to load \" + url);\n    }\n\n    for (let i = 0; i < css_urls.length; i++) {\n      const url = css_urls[i];\n      const element = document.createElement(\"link\");\n      element.onload = on_load;\n      element.onerror = on_error.bind(null, url);\n      element.rel = \"stylesheet\";\n      element.type = \"text/css\";\n      element.href = url;\n      console.debug(\"Bokeh: injecting link tag for BokehJS stylesheet: \", url);\n      document.body.appendChild(element);\n    }\n\n    for (let i = 0; i < js_urls.length; i++) {\n      const url = js_urls[i];\n      const element = document.createElement('script');\n      element.onload = on_load;\n      element.onerror = on_error.bind(null, url);\n      element.async = false;\n      element.src = url;\n      console.debug(\"Bokeh: injecting script tag for BokehJS library: \", url);\n      document.head.appendChild(element);\n    }\n  };\n\n  function inject_raw_css(css) {\n    const element = document.createElement(\"style\");\n    element.appendChild(document.createTextNode(css));\n    document.body.appendChild(element);\n  }\n\n  const js_urls = [\"https://cdn.bokeh.org/bokeh/release/bokeh-3.0.2.min.js\", \"https://cdn.bokeh.org/bokeh/release/bokeh-gl-3.0.2.min.js\", \"https://cdn.bokeh.org/bokeh/release/bokeh-widgets-3.0.2.min.js\", \"https://cdn.bokeh.org/bokeh/release/bokeh-tables-3.0.2.min.js\", \"https://cdn.bokeh.org/bokeh/release/bokeh-mathjax-3.0.2.min.js\"];\n  const css_urls = [];\n\n  const inline_js = [    function(Bokeh) {\n      Bokeh.set_log_level(\"info\");\n    },\nfunction(Bokeh) {\n    }\n  ];\n\n  function run_inline_js() {\n    if (root.Bokeh !== undefined || force === true) {\n          for (let i = 0; i < inline_js.length; i++) {\n      inline_js[i].call(root, root.Bokeh);\n    }\n} else if (Date.now() < root._bokeh_timeout) {\n      setTimeout(run_inline_js, 100);\n    } else if (!root._bokeh_failed_load) {\n      console.log(\"Bokeh: BokehJS failed to load within specified timeout.\");\n      root._bokeh_failed_load = true;\n    } else if (force !== true) {\n      const cell = $(document.getElementById(null)).parents('.cell').data().cell;\n      cell.output_area.append_execute_result(NB_LOAD_WARNING)\n    }\n  }\n\n  if (root._bokeh_is_loading === 0) {\n    console.debug(\"Bokeh: BokehJS loaded, going straight to plotting\");\n    run_inline_js();\n  } else {\n    load_libs(css_urls, js_urls, function() {\n      console.debug(\"Bokeh: BokehJS plotting callback run at\", now());\n      run_inline_js();\n    });\n  }\n}(window));",
      "application/vnd.bokehjs_load.v0+json": ""
     },
     "metadata": {},
     "output_type": "display_data"
    }
   ],
   "source": [
    "from bokeh.io import output_notebook, show, export_svg\n",
    "from bokeh.plotting import figure\n",
    "from bokeh.models import Range1d, ColumnDataSource, LabelSet\n",
    "\n",
    "output_notebook(hide_banner=True)\n",
    "\n",
    "from IPython.display import SVG, display\n",
    "from pathlib import Path\n",
    "import numpy as np\n",
    "\n",
    "import seaborn as sns\n",
    "from matplotlib import pyplot as plt\n",
    "\n",
    "from pathlib import Path"
   ]
  },
  {
   "cell_type": "code",
   "execution_count": 2,
   "metadata": {},
   "outputs": [],
   "source": [
    "FIGURES_DIR = Path(\"figures\") / Path(\"datasets-cls-dist\")\n",
    "FIGURES_DIR.mkdir(exist_ok=True, parents=True)\n",
    "\n",
    "SHORT_LABELS = [\"osoba\", \"miasto\", \"kraj\", \"O\"]"
   ]
  },
  {
   "cell_type": "code",
   "execution_count": 3,
   "metadata": {},
   "outputs": [],
   "source": [
    "LEAST_CONF_MDIR = \"../runs/test_threshold_least_confidence_50i_50n_kpwr_1670695943f865506/models\"\n",
    "LEAST_CONF_MNAMES = [\n",
    "    \"model_14it_1020spans.spacy\",\n",
    "    \"model_27it_2016spans.spacy\",\n",
    "    \"model_41it_3040spans.spacy\",\n",
    "    \"model_51it_3812spans.spacy\"\n",
    "]\n",
    "LEAST_CONF_CLS_DISTRIB = [\n",
    "    {\"nam_liv_person\": 581, \"nam_loc_gpe_city\": 234, \"nam_loc_gpe_country\": 205},\n",
    "    {\"nam_liv_person\": 1129, \"nam_loc_gpe_city\": 475, \"nam_loc_gpe_country\": 412},\n",
    "    {\"nam_liv_person\": 1690, \"nam_loc_gpe_city\": 746, \"nam_loc_gpe_country\": 604},\n",
    "    {\"nam_liv_person\": 2130, \"nam_loc_gpe_city\": 942, \"nam_loc_gpe_country\": 740}\n",
    "]"
   ]
  },
  {
   "cell_type": "code",
   "execution_count": 4,
   "metadata": {},
   "outputs": [],
   "source": [
    "RAND_MDIR = \"../runs/random_50i_50n_kpwr-full_1669041088f13043/models\"\n",
    "RAND_MNAMES = [\n",
    "    \"model_14it_1023spans.spacy\",\n",
    "    \"model_27it_2007spans.spacy\",\n",
    "    \"model_40it_3005spans.spacy\",\n",
    "    \"model_51it_3844spans.spacy\"\n",
    "]\n",
    "RAND_CLS_DISTRIB = [\n",
    "    {\"nam_liv_person\": 527, \"nam_loc_gpe_city\": 263, \"nam_loc_gpe_country\": 233},\n",
    "    {\"nam_liv_person\": 1075, \"nam_loc_gpe_city\": 510, \"nam_loc_gpe_country\": 422},\n",
    "    {\"nam_liv_person\": 1663, \"nam_loc_gpe_city\": 750, \"nam_loc_gpe_country\": 592},\n",
    "    {\"nam_liv_person\": 2153, \"nam_loc_gpe_country\": 725, \"nam_loc_gpe_city\": 966}\n",
    "]"
   ]
  },
  {
   "cell_type": "code",
   "execution_count": 5,
   "metadata": {},
   "outputs": [],
   "source": [
    "def shorten(label):\n",
    "    if label == \"nam_liv_person\":\n",
    "        return \"osoba\"\n",
    "    if label == \"nam_loc_gpe_city\":\n",
    "        return \"miasto\"\n",
    "    if label == \"nam_loc_gpe_country\":\n",
    "        return \"kraj\""
   ]
  },
  {
   "cell_type": "markdown",
   "metadata": {},
   "source": [
    "## Class distribution in test dataset"
   ]
  },
  {
   "cell_type": "code",
   "execution_count": 6,
   "metadata": {},
   "outputs": [
    {
     "data": {
      "image/svg+xml": "<svg xmlns=\"http://www.w3.org/2000/svg\" version=\"1.1\" width=\"700\" height=\"400\"><defs><clipPath id=\"fvbrbvhRBmxX\"><path fill=\"none\" stroke=\"none\" d=\"M 32.5 5.5 L 695.5 5.5 L 695.5 373.5 L 32.5 373.5 L 32.5 5.5\"/></clipPath><clipPath id=\"ZmnnuoupNVno\"><path fill=\"none\" stroke=\"none\" d=\"M 32.5 5.5 L 695.5 5.5 L 695.5 373.5 L 32.5 373.5 L 32.5 5.5\"/></clipPath><clipPath id=\"zIhVDDGUFCGH\"><path fill=\"none\" stroke=\"none\" d=\"M 32.5 5.5 L 695.5 5.5 L 695.5 373.5 L 32.5 373.5 L 32.5 5.5\"/></clipPath><clipPath id=\"ANxvLqBFwmhv\"><path fill=\"none\" stroke=\"none\" d=\"M 32.5 5.5 L 695.5 5.5 L 695.5 373.5 L 32.5 373.5 L 32.5 5.5\"/></clipPath></defs><path fill=\"rgb(255,255,255)\" stroke=\"none\" paint-order=\"stroke\" d=\"M 0.5 0.5 L 700.5 0.5 L 700.5 400.5 L 0.5 400.5 L 0.5 0.5\" fill-opacity=\"1\"/><rect fill=\"#FFFFFF\" stroke=\"none\" x=\"32\" y=\"5\" width=\"663\" height=\"368\" transform=\"matrix(1, 0, 0, 1, 0.5, 0.5)\"/><path fill=\"rgb(255,255,255)\" stroke=\"none\" paint-order=\"stroke\" d=\"M 32.5 5.5 L 695.5 5.5 L 695.5 373.5 L 32.5 373.5 L 32.5 5.5\" fill-opacity=\"1\"/><path fill=\"none\" stroke=\"rgb(229,229,229)\" paint-order=\"fill\" d=\"M 32.5 5.5 L 695.5 5.5 L 695.5 373.5 L 32.5 373.5 L 32.5 5.5\" stroke-opacity=\"1\" stroke-linejoin=\"bevel\" stroke-miterlimit=\"10\" stroke-dasharray=\"\"/><path fill=\"none\" stroke=\"rgb(229,229,229)\" paint-order=\"fill\" d=\"M 143.5 373.5 L 143.5 5.5 M 364.5 373.5 L 364.5 5.5 M 585.5 373.5 L 585.5 5.5\" stroke-opacity=\"1\" stroke-linejoin=\"bevel\" stroke-miterlimit=\"10\" stroke-dasharray=\"\" clip-path=\"url(#fvbrbvhRBmxX)\"/><path fill=\"none\" stroke=\"rgb(229,229,229)\" paint-order=\"fill\" d=\"M 32.5 356.5 L 695.5 356.5 M 32.5 307.5 L 695.5 307.5 M 32.5 258.5 L 695.5 258.5 M 32.5 209.5 L 695.5 209.5 M 32.5 160.5 L 695.5 160.5 M 32.5 111.5 L 695.5 111.5 M 32.5 62.5 L 695.5 62.5 M 32.5 13.5 L 695.5 13.5\" stroke-opacity=\"1\" stroke-linejoin=\"bevel\" stroke-miterlimit=\"10\" stroke-dasharray=\"\" clip-path=\"url(#ZmnnuoupNVno)\"/><path fill=\"rgb(11,132,165)\" stroke=\"rgb(0,0,0)\" paint-order=\"fill\" d=\"M 43.55000305175781 22.227272033691406 L 242.4499969482422 22.227272033691406 L 242.4499969482422 356.7727355957031 L 43.55000305175781 356.7727355957031 L 43.55000305175781 22.227272033691406\" fill-opacity=\"1\" clip-path=\"url(#zIhVDDGUFCGH)\" stroke-opacity=\"0.4\" stroke-linejoin=\"bevel\" stroke-miterlimit=\"10\" stroke-dasharray=\"\"/><path fill=\"rgb(246,200,95)\" stroke=\"rgb(0,0,0)\" paint-order=\"fill\" d=\"M 264.54998779296875 200.0310821533203 L 463.45001220703125 200.0310821533203 L 463.45001220703125 356.7727355957031 L 264.54998779296875 356.7727355957031 L 264.54998779296875 200.0310821533203\" fill-opacity=\"1\" clip-path=\"url(#zIhVDDGUFCGH)\" stroke-opacity=\"0.4\" stroke-linejoin=\"bevel\" stroke-miterlimit=\"10\" stroke-dasharray=\"\"/><path fill=\"rgb(46,139,87)\" stroke=\"rgb(0,0,0)\" paint-order=\"fill\" d=\"M 485.54998779296875 228.93032836914062 L 684.4500122070312 228.93032836914062 L 684.4500122070312 356.7727355957031 L 485.54998779296875 356.7727355957031 L 485.54998779296875 228.93032836914062\" fill-opacity=\"1\" clip-path=\"url(#zIhVDDGUFCGH)\" stroke-opacity=\"0.4\" stroke-linejoin=\"bevel\" stroke-miterlimit=\"10\" stroke-dasharray=\"\"/><path fill=\"none\" stroke=\"rgb(0,0,0)\" paint-order=\"fill\" d=\"M 32.5 373.5 L 695.5 373.5\" stroke-opacity=\"1\" stroke-linejoin=\"bevel\" stroke-miterlimit=\"10\" stroke-dasharray=\"\"/><path fill=\"none\" stroke=\"rgb(0,0,0)\" paint-order=\"fill\" d=\"M 143.5 379.5 L 143.5 371.5 M 364.5 379.5 L 364.5 371.5 M 585.5 379.5 L 585.5 371.5\" stroke-opacity=\"1\" stroke-linejoin=\"bevel\" stroke-miterlimit=\"10\" stroke-dasharray=\"\"/><path fill=\"none\" stroke=\"rgb(0,0,0)\" paint-order=\"fill\" d=\"\" stroke-opacity=\"1\" stroke-linejoin=\"bevel\" stroke-miterlimit=\"10\" stroke-dasharray=\"\"/><text fill=\"rgb(68,68,68)\" stroke=\"none\" font-family=\"helvetica\" font-size=\"11px\" font-style=\"normal\" font-weight=\"normal\" text-decoration=\"normal\" x=\"127.51666641235352\" y=\"395\" text-anchor=\"start\" dominant-baseline=\"alphabetic\" transform=\"matrix(1, 0, 0, 1, 0.5, 0.5)\" fill-opacity=\"1\">osoba</text><text fill=\"none\" stroke=\"rgb(0,0,0)\" font-family=\"helvetica\" font-size=\"11px\" font-style=\"normal\" font-weight=\"normal\" text-decoration=\"normal\" x=\"127.51666641235352\" y=\"395\" text-anchor=\"start\" dominant-baseline=\"alphabetic\" transform=\"matrix(1, 0, 0, 1, 0.5, 0.5)\" stroke-opacity=\"0\" stroke-linejoin=\"bevel\" stroke-miterlimit=\"10\" stroke-dasharray=\"\">osoba</text><text fill=\"rgb(68,68,68)\" stroke=\"none\" font-family=\"helvetica\" font-size=\"11px\" font-style=\"normal\" font-weight=\"normal\" text-decoration=\"normal\" x=\"347.29999923706055\" y=\"395\" text-anchor=\"start\" dominant-baseline=\"alphabetic\" transform=\"matrix(1, 0, 0, 1, 0.5, 0.5)\" fill-opacity=\"1\">miasto</text><text fill=\"none\" stroke=\"rgb(0,0,0)\" font-family=\"helvetica\" font-size=\"11px\" font-style=\"normal\" font-weight=\"normal\" text-decoration=\"normal\" x=\"347.29999923706055\" y=\"395\" text-anchor=\"start\" dominant-baseline=\"alphabetic\" transform=\"matrix(1, 0, 0, 1, 0.5, 0.5)\" stroke-opacity=\"0\" stroke-linejoin=\"bevel\" stroke-miterlimit=\"10\" stroke-dasharray=\"\">miasto</text><text fill=\"rgb(68,68,68)\" stroke=\"none\" font-family=\"helvetica\" font-size=\"11px\" font-style=\"normal\" font-weight=\"normal\" text-decoration=\"normal\" x=\"575.6333332061768\" y=\"395\" text-anchor=\"start\" dominant-baseline=\"alphabetic\" transform=\"matrix(1, 0, 0, 1, 0.5, 0.5)\" fill-opacity=\"1\">kraj</text><text fill=\"none\" stroke=\"rgb(0,0,0)\" font-family=\"helvetica\" font-size=\"11px\" font-style=\"normal\" font-weight=\"normal\" text-decoration=\"normal\" x=\"575.6333332061768\" y=\"395\" text-anchor=\"start\" dominant-baseline=\"alphabetic\" transform=\"matrix(1, 0, 0, 1, 0.5, 0.5)\" stroke-opacity=\"0\" stroke-linejoin=\"bevel\" stroke-miterlimit=\"10\" stroke-dasharray=\"\">kraj</text><path fill=\"none\" stroke=\"rgb(0,0,0)\" paint-order=\"fill\" d=\"M 32.5 373.5 L 32.5 5.5\" stroke-opacity=\"1\" stroke-linejoin=\"bevel\" stroke-miterlimit=\"10\" stroke-dasharray=\"\"/><path fill=\"none\" stroke=\"rgb(0,0,0)\" paint-order=\"fill\" d=\"M 26.5 356.5 L 34.5 356.5 M 26.5 307.5 L 34.5 307.5 M 26.5 258.5 L 34.5 258.5 M 26.5 209.5 L 34.5 209.5 M 26.5 160.5 L 34.5 160.5 M 26.5 111.5 L 34.5 111.5 M 26.5 62.5 L 34.5 62.5 M 26.5 13.5 L 34.5 13.5\" stroke-opacity=\"1\" stroke-linejoin=\"bevel\" stroke-miterlimit=\"10\" stroke-dasharray=\"\"/><path fill=\"none\" stroke=\"rgb(0,0,0)\" paint-order=\"fill\" d=\"M 28.5 366.5 L 32.5 366.5 M 28.5 356.5 L 32.5 356.5 M 28.5 346.5 L 32.5 346.5 M 28.5 337.5 L 32.5 337.5 M 28.5 327.5 L 32.5 327.5 M 28.5 317.5 L 32.5 317.5 M 28.5 307.5 L 32.5 307.5 M 28.5 297.5 L 32.5 297.5 M 28.5 288.5 L 32.5 288.5 M 28.5 278.5 L 32.5 278.5 M 28.5 268.5 L 32.5 268.5 M 28.5 258.5 L 32.5 258.5 M 28.5 249.5 L 32.5 249.5 M 28.5 239.5 L 32.5 239.5 M 28.5 229.5 L 32.5 229.5 M 28.5 219.5 L 32.5 219.5 M 28.5 209.5 L 32.5 209.5 M 28.5 200.5 L 32.5 200.5 M 28.5 190.5 L 32.5 190.5 M 28.5 180.5 L 32.5 180.5 M 28.5 170.5 L 32.5 170.5 M 28.5 160.5 L 32.5 160.5 M 28.5 151.5 L 32.5 151.5 M 28.5 141.5 L 32.5 141.5 M 28.5 131.5 L 32.5 131.5 M 28.5 121.5 L 32.5 121.5 M 28.5 111.5 L 32.5 111.5 M 28.5 102.5 L 32.5 102.5 M 28.5 92.5 L 32.5 92.5 M 28.5 82.5 L 32.5 82.5 M 28.5 72.5 L 32.5 72.5 M 28.5 62.5 L 32.5 62.5 M 28.5 53.5 L 32.5 53.5 M 28.5 43.5 L 32.5 43.5 M 28.5 33.5 L 32.5 33.5 M 28.5 23.5 L 32.5 23.5 M 28.5 13.5 L 32.5 13.5\" stroke-opacity=\"1\" stroke-linejoin=\"bevel\" stroke-miterlimit=\"10\" stroke-dasharray=\"\"/><text fill=\"rgb(68,68,68)\" stroke=\"none\" font-family=\"helvetica\" font-size=\"11px\" font-style=\"normal\" font-weight=\"normal\" text-decoration=\"normal\" x=\"14.883333206176758\" y=\"360.2727355957031\" text-anchor=\"start\" dominant-baseline=\"alphabetic\" transform=\"matrix(1, 0, 0, 1, 0.5, 0.5)\" fill-opacity=\"1\">0</text><text fill=\"none\" stroke=\"rgb(0,0,0)\" font-family=\"helvetica\" font-size=\"11px\" font-style=\"normal\" font-weight=\"normal\" text-decoration=\"normal\" x=\"14.883333206176758\" y=\"360.2727355957031\" text-anchor=\"start\" dominant-baseline=\"alphabetic\" transform=\"matrix(1, 0, 0, 1, 0.5, 0.5)\" stroke-opacity=\"0\" stroke-linejoin=\"bevel\" stroke-miterlimit=\"10\" stroke-dasharray=\"\">0</text><text fill=\"rgb(68,68,68)\" stroke=\"none\" font-family=\"helvetica\" font-size=\"11px\" font-style=\"normal\" font-weight=\"normal\" text-decoration=\"normal\" x=\"2.6499996185302734\" y=\"311.29095458984375\" text-anchor=\"start\" dominant-baseline=\"alphabetic\" transform=\"matrix(1, 0, 0, 1, 0.5, 0.5)\" fill-opacity=\"1\">100</text><text fill=\"none\" stroke=\"rgb(0,0,0)\" font-family=\"helvetica\" font-size=\"11px\" font-style=\"normal\" font-weight=\"normal\" text-decoration=\"normal\" x=\"2.6499996185302734\" y=\"311.29095458984375\" text-anchor=\"start\" dominant-baseline=\"alphabetic\" transform=\"matrix(1, 0, 0, 1, 0.5, 0.5)\" stroke-opacity=\"0\" stroke-linejoin=\"bevel\" stroke-miterlimit=\"10\" stroke-dasharray=\"\">100</text><text fill=\"rgb(68,68,68)\" stroke=\"none\" font-family=\"helvetica\" font-size=\"11px\" font-style=\"normal\" font-weight=\"normal\" text-decoration=\"normal\" x=\"2.6499996185302734\" y=\"262.3092041015625\" text-anchor=\"start\" dominant-baseline=\"alphabetic\" transform=\"matrix(1, 0, 0, 1, 0.5, 0.5)\" fill-opacity=\"1\">200</text><text fill=\"none\" stroke=\"rgb(0,0,0)\" font-family=\"helvetica\" font-size=\"11px\" font-style=\"normal\" font-weight=\"normal\" text-decoration=\"normal\" x=\"2.6499996185302734\" y=\"262.3092041015625\" text-anchor=\"start\" dominant-baseline=\"alphabetic\" transform=\"matrix(1, 0, 0, 1, 0.5, 0.5)\" stroke-opacity=\"0\" stroke-linejoin=\"bevel\" stroke-miterlimit=\"10\" stroke-dasharray=\"\">200</text><text fill=\"rgb(68,68,68)\" stroke=\"none\" font-family=\"helvetica\" font-size=\"11px\" font-style=\"normal\" font-weight=\"normal\" text-decoration=\"normal\" x=\"2.6499996185302734\" y=\"213.3274383544922\" text-anchor=\"start\" dominant-baseline=\"alphabetic\" transform=\"matrix(1, 0, 0, 1, 0.5, 0.5)\" fill-opacity=\"1\">300</text><text fill=\"none\" stroke=\"rgb(0,0,0)\" font-family=\"helvetica\" font-size=\"11px\" font-style=\"normal\" font-weight=\"normal\" text-decoration=\"normal\" x=\"2.6499996185302734\" y=\"213.3274383544922\" text-anchor=\"start\" dominant-baseline=\"alphabetic\" transform=\"matrix(1, 0, 0, 1, 0.5, 0.5)\" stroke-opacity=\"0\" stroke-linejoin=\"bevel\" stroke-miterlimit=\"10\" stroke-dasharray=\"\">300</text><text fill=\"rgb(68,68,68)\" stroke=\"none\" font-family=\"helvetica\" font-size=\"11px\" font-style=\"normal\" font-weight=\"normal\" text-decoration=\"normal\" x=\"2.6499996185302734\" y=\"164.34567260742188\" text-anchor=\"start\" dominant-baseline=\"alphabetic\" transform=\"matrix(1, 0, 0, 1, 0.5, 0.5)\" fill-opacity=\"1\">400</text><text fill=\"none\" stroke=\"rgb(0,0,0)\" font-family=\"helvetica\" font-size=\"11px\" font-style=\"normal\" font-weight=\"normal\" text-decoration=\"normal\" x=\"2.6499996185302734\" y=\"164.34567260742188\" text-anchor=\"start\" dominant-baseline=\"alphabetic\" transform=\"matrix(1, 0, 0, 1, 0.5, 0.5)\" stroke-opacity=\"0\" stroke-linejoin=\"bevel\" stroke-miterlimit=\"10\" stroke-dasharray=\"\">400</text><text fill=\"rgb(68,68,68)\" stroke=\"none\" font-family=\"helvetica\" font-size=\"11px\" font-style=\"normal\" font-weight=\"normal\" text-decoration=\"normal\" x=\"2.6499996185302734\" y=\"115.36389923095703\" text-anchor=\"start\" dominant-baseline=\"alphabetic\" transform=\"matrix(1, 0, 0, 1, 0.5, 0.5)\" fill-opacity=\"1\">500</text><text fill=\"none\" stroke=\"rgb(0,0,0)\" font-family=\"helvetica\" font-size=\"11px\" font-style=\"normal\" font-weight=\"normal\" text-decoration=\"normal\" x=\"2.6499996185302734\" y=\"115.36389923095703\" text-anchor=\"start\" dominant-baseline=\"alphabetic\" transform=\"matrix(1, 0, 0, 1, 0.5, 0.5)\" stroke-opacity=\"0\" stroke-linejoin=\"bevel\" stroke-miterlimit=\"10\" stroke-dasharray=\"\">500</text><text fill=\"rgb(68,68,68)\" stroke=\"none\" font-family=\"helvetica\" font-size=\"11px\" font-style=\"normal\" font-weight=\"normal\" text-decoration=\"normal\" x=\"2.6499996185302734\" y=\"66.38213729858398\" text-anchor=\"start\" dominant-baseline=\"alphabetic\" transform=\"matrix(1, 0, 0, 1, 0.5, 0.5)\" fill-opacity=\"1\">600</text><text fill=\"none\" stroke=\"rgb(0,0,0)\" font-family=\"helvetica\" font-size=\"11px\" font-style=\"normal\" font-weight=\"normal\" text-decoration=\"normal\" x=\"2.6499996185302734\" y=\"66.38213729858398\" text-anchor=\"start\" dominant-baseline=\"alphabetic\" transform=\"matrix(1, 0, 0, 1, 0.5, 0.5)\" stroke-opacity=\"0\" stroke-linejoin=\"bevel\" stroke-miterlimit=\"10\" stroke-dasharray=\"\">600</text><text fill=\"rgb(68,68,68)\" stroke=\"none\" font-family=\"helvetica\" font-size=\"11px\" font-style=\"normal\" font-weight=\"normal\" text-decoration=\"normal\" x=\"2.6499996185302734\" y=\"17.40037250518799\" text-anchor=\"start\" dominant-baseline=\"alphabetic\" transform=\"matrix(1, 0, 0, 1, 0.5, 0.5)\" fill-opacity=\"1\">700</text><text fill=\"none\" stroke=\"rgb(0,0,0)\" font-family=\"helvetica\" font-size=\"11px\" font-style=\"normal\" font-weight=\"normal\" text-decoration=\"normal\" x=\"2.6499996185302734\" y=\"17.40037250518799\" text-anchor=\"start\" dominant-baseline=\"alphabetic\" transform=\"matrix(1, 0, 0, 1, 0.5, 0.5)\" stroke-opacity=\"0\" stroke-linejoin=\"bevel\" stroke-miterlimit=\"10\" stroke-dasharray=\"\">700</text></svg>",
      "text/plain": [
       "<IPython.core.display.SVG object>"
      ]
     },
     "metadata": {},
     "output_type": "display_data"
    }
   ],
   "source": [
    "colors = [\"#0B84A5\", \"#F6C85F\", \"seagreen\"]\n",
    "\n",
    "test_classes = [\"osoba\", \"miasto\", \"kraj\"]\n",
    "test_counts = [683, 320, 261]\n",
    "\n",
    "p = figure(x_range=test_classes,\n",
    "           width=700,\n",
    "           height=400,\n",
    "           output_backend=\"svg\")\n",
    "\n",
    "p.vbar(x=test_classes, top=test_counts, color=colors, width=0.9, line_color=\"black\", line_alpha=0.4)\n",
    "\n",
    "out_path = FIGURES_DIR / f\"bokeh_test_dataset_class_distribution.svg\"\n",
    "p.toolbar_location = None\n",
    "export_svg(p, filename=out_path)\n",
    "display(SVG(filename=out_path))"
   ]
  },
  {
   "cell_type": "code",
   "execution_count": 15,
   "metadata": {},
   "outputs": [
    {
     "name": "stdout",
     "output_type": "stream",
     "text": [
      "model_14it_1023spans.spacy\n"
     ]
    },
    {
     "data": {
      "image/svg+xml": "<svg xmlns=\"http://www.w3.org/2000/svg\" version=\"1.1\" width=\"700\" height=\"400\"><defs><clipPath id=\"BSSNNlpfSRwi\"><path fill=\"none\" stroke=\"none\" d=\"M 32.5 5.5 L 695.5 5.5 L 695.5 373.5 L 32.5 373.5 L 32.5 5.5\"/></clipPath><clipPath id=\"NBLMCgEeEsdq\"><path fill=\"none\" stroke=\"none\" d=\"M 32.5 5.5 L 695.5 5.5 L 695.5 373.5 L 32.5 373.5 L 32.5 5.5\"/></clipPath><clipPath id=\"nOtiGbJpTCEG\"><path fill=\"none\" stroke=\"none\" d=\"M 32.5 5.5 L 695.5 5.5 L 695.5 373.5 L 32.5 373.5 L 32.5 5.5\"/></clipPath><clipPath id=\"cRDxAuHDPWyp\"><path fill=\"none\" stroke=\"none\" d=\"M 32.5 5.5 L 695.5 5.5 L 695.5 373.5 L 32.5 373.5 L 32.5 5.5\"/></clipPath></defs><path fill=\"rgb(255,255,255)\" stroke=\"none\" paint-order=\"stroke\" d=\"M 0.5 0.5 L 700.5 0.5 L 700.5 400.5 L 0.5 400.5 L 0.5 0.5\" fill-opacity=\"1\"/><rect fill=\"#FFFFFF\" stroke=\"none\" x=\"32\" y=\"5\" width=\"663\" height=\"368\" transform=\"matrix(1, 0, 0, 1, 0.5, 0.5)\"/><path fill=\"rgb(255,255,255)\" stroke=\"none\" paint-order=\"stroke\" d=\"M 32.5 5.5 L 695.5 5.5 L 695.5 373.5 L 32.5 373.5 L 32.5 5.5\" fill-opacity=\"1\"/><path fill=\"none\" stroke=\"rgb(229,229,229)\" paint-order=\"fill\" d=\"M 32.5 5.5 L 695.5 5.5 L 695.5 373.5 L 32.5 373.5 L 32.5 5.5\" stroke-opacity=\"1\" stroke-linejoin=\"bevel\" stroke-miterlimit=\"10\" stroke-dasharray=\"\"/><path fill=\"none\" stroke=\"rgb(229,229,229)\" paint-order=\"fill\" d=\"M 143.5 373.5 L 143.5 5.5 M 364.5 373.5 L 364.5 5.5 M 585.5 373.5 L 585.5 5.5\" stroke-opacity=\"1\" stroke-linejoin=\"bevel\" stroke-miterlimit=\"10\" stroke-dasharray=\"\" clip-path=\"url(#BSSNNlpfSRwi)\"/><path fill=\"none\" stroke=\"rgb(229,229,229)\" paint-order=\"fill\" d=\"M 32.5 315.5 L 695.5 315.5 M 32.5 258.5 L 695.5 258.5 M 32.5 200.5 L 695.5 200.5 M 32.5 143.5 L 695.5 143.5 M 32.5 85.5 L 695.5 85.5 M 32.5 28.5 L 695.5 28.5\" stroke-opacity=\"1\" stroke-linejoin=\"bevel\" stroke-miterlimit=\"10\" stroke-dasharray=\"\" clip-path=\"url(#NBLMCgEeEsdq)\"/><path fill=\"rgb(11,132,165)\" stroke=\"rgb(0,0,0)\" paint-order=\"fill\" d=\"M 43.55000305175781 70.04827117919922 L 242.4499969482422 70.04827117919922 L 242.4499969482422 373.5 L 43.55000305175781 373.5 L 43.55000305175781 70.04827117919922\" fill-opacity=\"1\" clip-path=\"url(#nOtiGbJpTCEG)\" stroke-opacity=\"0.4\" stroke-linejoin=\"bevel\" stroke-miterlimit=\"10\" stroke-dasharray=\"\"/><path fill=\"rgb(246,200,95)\" stroke=\"rgb(0,0,0)\" paint-order=\"fill\" d=\"M 264.54998779296875 222.06204223632812 L 463.45001220703125 222.06204223632812 L 463.45001220703125 373.5 L 264.54998779296875 373.5 L 264.54998779296875 222.06204223632812\" fill-opacity=\"1\" clip-path=\"url(#nOtiGbJpTCEG)\" stroke-opacity=\"0.4\" stroke-linejoin=\"bevel\" stroke-miterlimit=\"10\" stroke-dasharray=\"\"/><path fill=\"rgb(46,139,87)\" stroke=\"rgb(0,0,0)\" paint-order=\"fill\" d=\"M 485.54998779296875 239.33633422851562 L 684.4500122070312 239.33633422851562 L 684.4500122070312 373.5 L 485.54998779296875 373.5 L 485.54998779296875 239.33633422851562\" fill-opacity=\"1\" clip-path=\"url(#nOtiGbJpTCEG)\" stroke-opacity=\"0.4\" stroke-linejoin=\"bevel\" stroke-miterlimit=\"10\" stroke-dasharray=\"\"/><path fill=\"none\" stroke=\"rgb(0,0,0)\" paint-order=\"fill\" d=\"M 32.5 373.5 L 695.5 373.5\" stroke-opacity=\"1\" stroke-linejoin=\"bevel\" stroke-miterlimit=\"10\" stroke-dasharray=\"\"/><path fill=\"none\" stroke=\"rgb(0,0,0)\" paint-order=\"fill\" d=\"M 143.5 379.5 L 143.5 371.5 M 364.5 379.5 L 364.5 371.5 M 585.5 379.5 L 585.5 371.5\" stroke-opacity=\"1\" stroke-linejoin=\"bevel\" stroke-miterlimit=\"10\" stroke-dasharray=\"\"/><path fill=\"none\" stroke=\"rgb(0,0,0)\" paint-order=\"fill\" d=\"\" stroke-opacity=\"1\" stroke-linejoin=\"bevel\" stroke-miterlimit=\"10\" stroke-dasharray=\"\"/><text fill=\"rgb(68,68,68)\" stroke=\"none\" font-family=\"helvetica\" font-size=\"11px\" font-style=\"normal\" font-weight=\"normal\" text-decoration=\"normal\" x=\"127.51666641235352\" y=\"395\" text-anchor=\"start\" dominant-baseline=\"alphabetic\" transform=\"matrix(1, 0, 0, 1, 0.5, 0.5)\" fill-opacity=\"1\">osoba</text><text fill=\"none\" stroke=\"rgb(0,0,0)\" font-family=\"helvetica\" font-size=\"11px\" font-style=\"normal\" font-weight=\"normal\" text-decoration=\"normal\" x=\"127.51666641235352\" y=\"395\" text-anchor=\"start\" dominant-baseline=\"alphabetic\" transform=\"matrix(1, 0, 0, 1, 0.5, 0.5)\" stroke-opacity=\"0\" stroke-linejoin=\"bevel\" stroke-miterlimit=\"10\" stroke-dasharray=\"\">osoba</text><text fill=\"rgb(68,68,68)\" stroke=\"none\" font-family=\"helvetica\" font-size=\"11px\" font-style=\"normal\" font-weight=\"normal\" text-decoration=\"normal\" x=\"347.29999923706055\" y=\"395\" text-anchor=\"start\" dominant-baseline=\"alphabetic\" transform=\"matrix(1, 0, 0, 1, 0.5, 0.5)\" fill-opacity=\"1\">miasto</text><text fill=\"none\" stroke=\"rgb(0,0,0)\" font-family=\"helvetica\" font-size=\"11px\" font-style=\"normal\" font-weight=\"normal\" text-decoration=\"normal\" x=\"347.29999923706055\" y=\"395\" text-anchor=\"start\" dominant-baseline=\"alphabetic\" transform=\"matrix(1, 0, 0, 1, 0.5, 0.5)\" stroke-opacity=\"0\" stroke-linejoin=\"bevel\" stroke-miterlimit=\"10\" stroke-dasharray=\"\">miasto</text><text fill=\"rgb(68,68,68)\" stroke=\"none\" font-family=\"helvetica\" font-size=\"11px\" font-style=\"normal\" font-weight=\"normal\" text-decoration=\"normal\" x=\"575.6333332061768\" y=\"395\" text-anchor=\"start\" dominant-baseline=\"alphabetic\" transform=\"matrix(1, 0, 0, 1, 0.5, 0.5)\" fill-opacity=\"1\">kraj</text><text fill=\"none\" stroke=\"rgb(0,0,0)\" font-family=\"helvetica\" font-size=\"11px\" font-style=\"normal\" font-weight=\"normal\" text-decoration=\"normal\" x=\"575.6333332061768\" y=\"395\" text-anchor=\"start\" dominant-baseline=\"alphabetic\" transform=\"matrix(1, 0, 0, 1, 0.5, 0.5)\" stroke-opacity=\"0\" stroke-linejoin=\"bevel\" stroke-miterlimit=\"10\" stroke-dasharray=\"\">kraj</text><path fill=\"none\" stroke=\"rgb(0,0,0)\" paint-order=\"fill\" d=\"M 32.5 373.5 L 32.5 5.5\" stroke-opacity=\"1\" stroke-linejoin=\"bevel\" stroke-miterlimit=\"10\" stroke-dasharray=\"\"/><path fill=\"none\" stroke=\"rgb(0,0,0)\" paint-order=\"fill\" d=\"M 26.5 373.5 L 34.5 373.5 M 26.5 315.5 L 34.5 315.5 M 26.5 258.5 L 34.5 258.5 M 26.5 200.5 L 34.5 200.5 M 26.5 143.5 L 34.5 143.5 M 26.5 85.5 L 34.5 85.5 M 26.5 28.5 L 34.5 28.5\" stroke-opacity=\"1\" stroke-linejoin=\"bevel\" stroke-miterlimit=\"10\" stroke-dasharray=\"\"/><path fill=\"none\" stroke=\"rgb(0,0,0)\" paint-order=\"fill\" d=\"M 28.5 373.5 L 32.5 373.5 M 28.5 361.5 L 32.5 361.5 M 28.5 350.5 L 32.5 350.5 M 28.5 338.5 L 32.5 338.5 M 28.5 327.5 L 32.5 327.5 M 28.5 315.5 L 32.5 315.5 M 28.5 304.5 L 32.5 304.5 M 28.5 292.5 L 32.5 292.5 M 28.5 281.5 L 32.5 281.5 M 28.5 269.5 L 32.5 269.5 M 28.5 258.5 L 32.5 258.5 M 28.5 246.5 L 32.5 246.5 M 28.5 235.5 L 32.5 235.5 M 28.5 223.5 L 32.5 223.5 M 28.5 212.5 L 32.5 212.5 M 28.5 200.5 L 32.5 200.5 M 28.5 189.5 L 32.5 189.5 M 28.5 177.5 L 32.5 177.5 M 28.5 166.5 L 32.5 166.5 M 28.5 154.5 L 32.5 154.5 M 28.5 143.5 L 32.5 143.5 M 28.5 131.5 L 32.5 131.5 M 28.5 120.5 L 32.5 120.5 M 28.5 108.5 L 32.5 108.5 M 28.5 97.5 L 32.5 97.5 M 28.5 85.5 L 32.5 85.5 M 28.5 74.5 L 32.5 74.5 M 28.5 62.5 L 32.5 62.5 M 28.5 51.5 L 32.5 51.5 M 28.5 39.5 L 32.5 39.5 M 28.5 28.5 L 32.5 28.5 M 28.5 16.5 L 32.5 16.5\" stroke-opacity=\"1\" stroke-linejoin=\"bevel\" stroke-miterlimit=\"10\" stroke-dasharray=\"\"/><text fill=\"rgb(68,68,68)\" stroke=\"none\" font-family=\"helvetica\" font-size=\"11px\" font-style=\"normal\" font-weight=\"normal\" text-decoration=\"normal\" x=\"14.883333206176758\" y=\"377\" text-anchor=\"start\" dominant-baseline=\"alphabetic\" transform=\"matrix(1, 0, 0, 1, 0.5, 0.5)\" fill-opacity=\"1\">0</text><text fill=\"none\" stroke=\"rgb(0,0,0)\" font-family=\"helvetica\" font-size=\"11px\" font-style=\"normal\" font-weight=\"normal\" text-decoration=\"normal\" x=\"14.883333206176758\" y=\"377\" text-anchor=\"start\" dominant-baseline=\"alphabetic\" transform=\"matrix(1, 0, 0, 1, 0.5, 0.5)\" stroke-opacity=\"0\" stroke-linejoin=\"bevel\" stroke-miterlimit=\"10\" stroke-dasharray=\"\">0</text><text fill=\"rgb(68,68,68)\" stroke=\"none\" font-family=\"helvetica\" font-size=\"11px\" font-style=\"normal\" font-weight=\"normal\" text-decoration=\"normal\" x=\"2.6499996185302734\" y=\"319.4190368652344\" text-anchor=\"start\" dominant-baseline=\"alphabetic\" transform=\"matrix(1, 0, 0, 1, 0.5, 0.5)\" fill-opacity=\"1\">100</text><text fill=\"none\" stroke=\"rgb(0,0,0)\" font-family=\"helvetica\" font-size=\"11px\" font-style=\"normal\" font-weight=\"normal\" text-decoration=\"normal\" x=\"2.6499996185302734\" y=\"319.4190368652344\" text-anchor=\"start\" dominant-baseline=\"alphabetic\" transform=\"matrix(1, 0, 0, 1, 0.5, 0.5)\" stroke-opacity=\"0\" stroke-linejoin=\"bevel\" stroke-miterlimit=\"10\" stroke-dasharray=\"\">100</text><text fill=\"rgb(68,68,68)\" stroke=\"none\" font-family=\"helvetica\" font-size=\"11px\" font-style=\"normal\" font-weight=\"normal\" text-decoration=\"normal\" x=\"2.6499996185302734\" y=\"261.8380432128906\" text-anchor=\"start\" dominant-baseline=\"alphabetic\" transform=\"matrix(1, 0, 0, 1, 0.5, 0.5)\" fill-opacity=\"1\">200</text><text fill=\"none\" stroke=\"rgb(0,0,0)\" font-family=\"helvetica\" font-size=\"11px\" font-style=\"normal\" font-weight=\"normal\" text-decoration=\"normal\" x=\"2.6499996185302734\" y=\"261.8380432128906\" text-anchor=\"start\" dominant-baseline=\"alphabetic\" transform=\"matrix(1, 0, 0, 1, 0.5, 0.5)\" stroke-opacity=\"0\" stroke-linejoin=\"bevel\" stroke-miterlimit=\"10\" stroke-dasharray=\"\">200</text><text fill=\"rgb(68,68,68)\" stroke=\"none\" font-family=\"helvetica\" font-size=\"11px\" font-style=\"normal\" font-weight=\"normal\" text-decoration=\"normal\" x=\"2.6499996185302734\" y=\"204.257080078125\" text-anchor=\"start\" dominant-baseline=\"alphabetic\" transform=\"matrix(1, 0, 0, 1, 0.5, 0.5)\" fill-opacity=\"1\">300</text><text fill=\"none\" stroke=\"rgb(0,0,0)\" font-family=\"helvetica\" font-size=\"11px\" font-style=\"normal\" font-weight=\"normal\" text-decoration=\"normal\" x=\"2.6499996185302734\" y=\"204.257080078125\" text-anchor=\"start\" dominant-baseline=\"alphabetic\" transform=\"matrix(1, 0, 0, 1, 0.5, 0.5)\" stroke-opacity=\"0\" stroke-linejoin=\"bevel\" stroke-miterlimit=\"10\" stroke-dasharray=\"\">300</text><text fill=\"rgb(68,68,68)\" stroke=\"none\" font-family=\"helvetica\" font-size=\"11px\" font-style=\"normal\" font-weight=\"normal\" text-decoration=\"normal\" x=\"2.6499996185302734\" y=\"146.6761016845703\" text-anchor=\"start\" dominant-baseline=\"alphabetic\" transform=\"matrix(1, 0, 0, 1, 0.5, 0.5)\" fill-opacity=\"1\">400</text><text fill=\"none\" stroke=\"rgb(0,0,0)\" font-family=\"helvetica\" font-size=\"11px\" font-style=\"normal\" font-weight=\"normal\" text-decoration=\"normal\" x=\"2.6499996185302734\" y=\"146.6761016845703\" text-anchor=\"start\" dominant-baseline=\"alphabetic\" transform=\"matrix(1, 0, 0, 1, 0.5, 0.5)\" stroke-opacity=\"0\" stroke-linejoin=\"bevel\" stroke-miterlimit=\"10\" stroke-dasharray=\"\">400</text><text fill=\"rgb(68,68,68)\" stroke=\"none\" font-family=\"helvetica\" font-size=\"11px\" font-style=\"normal\" font-weight=\"normal\" text-decoration=\"normal\" x=\"2.6499996185302734\" y=\"89.09513092041016\" text-anchor=\"start\" dominant-baseline=\"alphabetic\" transform=\"matrix(1, 0, 0, 1, 0.5, 0.5)\" fill-opacity=\"1\">500</text><text fill=\"none\" stroke=\"rgb(0,0,0)\" font-family=\"helvetica\" font-size=\"11px\" font-style=\"normal\" font-weight=\"normal\" text-decoration=\"normal\" x=\"2.6499996185302734\" y=\"89.09513092041016\" text-anchor=\"start\" dominant-baseline=\"alphabetic\" transform=\"matrix(1, 0, 0, 1, 0.5, 0.5)\" stroke-opacity=\"0\" stroke-linejoin=\"bevel\" stroke-miterlimit=\"10\" stroke-dasharray=\"\">500</text><text fill=\"rgb(68,68,68)\" stroke=\"none\" font-family=\"helvetica\" font-size=\"11px\" font-style=\"normal\" font-weight=\"normal\" text-decoration=\"normal\" x=\"2.6499996185302734\" y=\"31.51416015625\" text-anchor=\"start\" dominant-baseline=\"alphabetic\" transform=\"matrix(1, 0, 0, 1, 0.5, 0.5)\" fill-opacity=\"1\">600</text><text fill=\"none\" stroke=\"rgb(0,0,0)\" font-family=\"helvetica\" font-size=\"11px\" font-style=\"normal\" font-weight=\"normal\" text-decoration=\"normal\" x=\"2.6499996185302734\" y=\"31.51416015625\" text-anchor=\"start\" dominant-baseline=\"alphabetic\" transform=\"matrix(1, 0, 0, 1, 0.5, 0.5)\" stroke-opacity=\"0\" stroke-linejoin=\"bevel\" stroke-miterlimit=\"10\" stroke-dasharray=\"\">600</text></svg>",
      "text/plain": [
       "<IPython.core.display.SVG object>"
      ]
     },
     "metadata": {},
     "output_type": "display_data"
    },
    {
     "name": "stdout",
     "output_type": "stream",
     "text": [
      "model_14it_1020spans.spacy\n"
     ]
    },
    {
     "data": {
      "image/svg+xml": "<svg xmlns=\"http://www.w3.org/2000/svg\" version=\"1.1\" width=\"700\" height=\"400\"><defs><clipPath id=\"tKqdbUCTgcJs\"><path fill=\"none\" stroke=\"none\" d=\"M 32.5 5.5 L 695.5 5.5 L 695.5 373.5 L 32.5 373.5 L 32.5 5.5\"/></clipPath><clipPath id=\"zNtdmWBqGNXE\"><path fill=\"none\" stroke=\"none\" d=\"M 32.5 5.5 L 695.5 5.5 L 695.5 373.5 L 32.5 373.5 L 32.5 5.5\"/></clipPath><clipPath id=\"yTagiGEAQgTR\"><path fill=\"none\" stroke=\"none\" d=\"M 32.5 5.5 L 695.5 5.5 L 695.5 373.5 L 32.5 373.5 L 32.5 5.5\"/></clipPath><clipPath id=\"bZaIlXuzBoZM\"><path fill=\"none\" stroke=\"none\" d=\"M 32.5 5.5 L 695.5 5.5 L 695.5 373.5 L 32.5 373.5 L 32.5 5.5\"/></clipPath></defs><path fill=\"rgb(255,255,255)\" stroke=\"none\" paint-order=\"stroke\" d=\"M 0.5 0.5 L 700.5 0.5 L 700.5 400.5 L 0.5 400.5 L 0.5 0.5\" fill-opacity=\"1\"/><rect fill=\"#FFFFFF\" stroke=\"none\" x=\"32\" y=\"5\" width=\"663\" height=\"368\" transform=\"matrix(1, 0, 0, 1, 0.5, 0.5)\"/><path fill=\"rgb(255,255,255)\" stroke=\"none\" paint-order=\"stroke\" d=\"M 32.5 5.5 L 695.5 5.5 L 695.5 373.5 L 32.5 373.5 L 32.5 5.5\" fill-opacity=\"1\"/><path fill=\"none\" stroke=\"rgb(229,229,229)\" paint-order=\"fill\" d=\"M 32.5 5.5 L 695.5 5.5 L 695.5 373.5 L 32.5 373.5 L 32.5 5.5\" stroke-opacity=\"1\" stroke-linejoin=\"bevel\" stroke-miterlimit=\"10\" stroke-dasharray=\"\"/><path fill=\"none\" stroke=\"rgb(229,229,229)\" paint-order=\"fill\" d=\"M 143.5 373.5 L 143.5 5.5 M 364.5 373.5 L 364.5 5.5 M 585.5 373.5 L 585.5 5.5\" stroke-opacity=\"1\" stroke-linejoin=\"bevel\" stroke-miterlimit=\"10\" stroke-dasharray=\"\" clip-path=\"url(#tKqdbUCTgcJs)\"/><path fill=\"none\" stroke=\"rgb(229,229,229)\" paint-order=\"fill\" d=\"M 32.5 315.5 L 695.5 315.5 M 32.5 258.5 L 695.5 258.5 M 32.5 200.5 L 695.5 200.5 M 32.5 143.5 L 695.5 143.5 M 32.5 85.5 L 695.5 85.5 M 32.5 28.5 L 695.5 28.5\" stroke-opacity=\"1\" stroke-linejoin=\"bevel\" stroke-miterlimit=\"10\" stroke-dasharray=\"\" clip-path=\"url(#zNtdmWBqGNXE)\"/><path fill=\"rgb(11,132,165)\" stroke=\"rgb(0,0,0)\" paint-order=\"fill\" d=\"M 43.55000305175781 38.95454406738281 L 242.4499969482422 38.95454406738281 L 242.4499969482422 373.5 L 43.55000305175781 373.5 L 43.55000305175781 38.95454406738281\" fill-opacity=\"1\" clip-path=\"url(#yTagiGEAQgTR)\" stroke-opacity=\"0.4\" stroke-linejoin=\"bevel\" stroke-miterlimit=\"10\" stroke-dasharray=\"\"/><path fill=\"rgb(246,200,95)\" stroke=\"rgb(0,0,0)\" paint-order=\"fill\" d=\"M 264.54998779296875 238.76052856445312 L 463.45001220703125 238.76052856445312 L 463.45001220703125 373.5 L 264.54998779296875 373.5 L 264.54998779296875 238.76052856445312\" fill-opacity=\"1\" clip-path=\"url(#yTagiGEAQgTR)\" stroke-opacity=\"0.4\" stroke-linejoin=\"bevel\" stroke-miterlimit=\"10\" stroke-dasharray=\"\"/><path fill=\"rgb(46,139,87)\" stroke=\"rgb(0,0,0)\" paint-order=\"fill\" d=\"M 485.54998779296875 255.45899963378906 L 684.4500122070312 255.45899963378906 L 684.4500122070312 373.5 L 485.54998779296875 373.5 L 485.54998779296875 255.45899963378906\" fill-opacity=\"1\" clip-path=\"url(#yTagiGEAQgTR)\" stroke-opacity=\"0.4\" stroke-linejoin=\"bevel\" stroke-miterlimit=\"10\" stroke-dasharray=\"\"/><path fill=\"none\" stroke=\"rgb(0,0,0)\" paint-order=\"fill\" d=\"M 32.5 373.5 L 695.5 373.5\" stroke-opacity=\"1\" stroke-linejoin=\"bevel\" stroke-miterlimit=\"10\" stroke-dasharray=\"\"/><path fill=\"none\" stroke=\"rgb(0,0,0)\" paint-order=\"fill\" d=\"M 143.5 379.5 L 143.5 371.5 M 364.5 379.5 L 364.5 371.5 M 585.5 379.5 L 585.5 371.5\" stroke-opacity=\"1\" stroke-linejoin=\"bevel\" stroke-miterlimit=\"10\" stroke-dasharray=\"\"/><path fill=\"none\" stroke=\"rgb(0,0,0)\" paint-order=\"fill\" d=\"\" stroke-opacity=\"1\" stroke-linejoin=\"bevel\" stroke-miterlimit=\"10\" stroke-dasharray=\"\"/><text fill=\"rgb(68,68,68)\" stroke=\"none\" font-family=\"helvetica\" font-size=\"11px\" font-style=\"normal\" font-weight=\"normal\" text-decoration=\"normal\" x=\"127.51666641235352\" y=\"395\" text-anchor=\"start\" dominant-baseline=\"alphabetic\" transform=\"matrix(1, 0, 0, 1, 0.5, 0.5)\" fill-opacity=\"1\">osoba</text><text fill=\"none\" stroke=\"rgb(0,0,0)\" font-family=\"helvetica\" font-size=\"11px\" font-style=\"normal\" font-weight=\"normal\" text-decoration=\"normal\" x=\"127.51666641235352\" y=\"395\" text-anchor=\"start\" dominant-baseline=\"alphabetic\" transform=\"matrix(1, 0, 0, 1, 0.5, 0.5)\" stroke-opacity=\"0\" stroke-linejoin=\"bevel\" stroke-miterlimit=\"10\" stroke-dasharray=\"\">osoba</text><text fill=\"rgb(68,68,68)\" stroke=\"none\" font-family=\"helvetica\" font-size=\"11px\" font-style=\"normal\" font-weight=\"normal\" text-decoration=\"normal\" x=\"347.29999923706055\" y=\"395\" text-anchor=\"start\" dominant-baseline=\"alphabetic\" transform=\"matrix(1, 0, 0, 1, 0.5, 0.5)\" fill-opacity=\"1\">miasto</text><text fill=\"none\" stroke=\"rgb(0,0,0)\" font-family=\"helvetica\" font-size=\"11px\" font-style=\"normal\" font-weight=\"normal\" text-decoration=\"normal\" x=\"347.29999923706055\" y=\"395\" text-anchor=\"start\" dominant-baseline=\"alphabetic\" transform=\"matrix(1, 0, 0, 1, 0.5, 0.5)\" stroke-opacity=\"0\" stroke-linejoin=\"bevel\" stroke-miterlimit=\"10\" stroke-dasharray=\"\">miasto</text><text fill=\"rgb(68,68,68)\" stroke=\"none\" font-family=\"helvetica\" font-size=\"11px\" font-style=\"normal\" font-weight=\"normal\" text-decoration=\"normal\" x=\"575.6333332061768\" y=\"395\" text-anchor=\"start\" dominant-baseline=\"alphabetic\" transform=\"matrix(1, 0, 0, 1, 0.5, 0.5)\" fill-opacity=\"1\">kraj</text><text fill=\"none\" stroke=\"rgb(0,0,0)\" font-family=\"helvetica\" font-size=\"11px\" font-style=\"normal\" font-weight=\"normal\" text-decoration=\"normal\" x=\"575.6333332061768\" y=\"395\" text-anchor=\"start\" dominant-baseline=\"alphabetic\" transform=\"matrix(1, 0, 0, 1, 0.5, 0.5)\" stroke-opacity=\"0\" stroke-linejoin=\"bevel\" stroke-miterlimit=\"10\" stroke-dasharray=\"\">kraj</text><path fill=\"none\" stroke=\"rgb(0,0,0)\" paint-order=\"fill\" d=\"M 32.5 373.5 L 32.5 5.5\" stroke-opacity=\"1\" stroke-linejoin=\"bevel\" stroke-miterlimit=\"10\" stroke-dasharray=\"\"/><path fill=\"none\" stroke=\"rgb(0,0,0)\" paint-order=\"fill\" d=\"M 26.5 373.5 L 34.5 373.5 M 26.5 315.5 L 34.5 315.5 M 26.5 258.5 L 34.5 258.5 M 26.5 200.5 L 34.5 200.5 M 26.5 143.5 L 34.5 143.5 M 26.5 85.5 L 34.5 85.5 M 26.5 28.5 L 34.5 28.5\" stroke-opacity=\"1\" stroke-linejoin=\"bevel\" stroke-miterlimit=\"10\" stroke-dasharray=\"\"/><path fill=\"none\" stroke=\"rgb(0,0,0)\" paint-order=\"fill\" d=\"M 28.5 373.5 L 32.5 373.5 M 28.5 361.5 L 32.5 361.5 M 28.5 350.5 L 32.5 350.5 M 28.5 338.5 L 32.5 338.5 M 28.5 327.5 L 32.5 327.5 M 28.5 315.5 L 32.5 315.5 M 28.5 304.5 L 32.5 304.5 M 28.5 292.5 L 32.5 292.5 M 28.5 281.5 L 32.5 281.5 M 28.5 269.5 L 32.5 269.5 M 28.5 258.5 L 32.5 258.5 M 28.5 246.5 L 32.5 246.5 M 28.5 235.5 L 32.5 235.5 M 28.5 223.5 L 32.5 223.5 M 28.5 212.5 L 32.5 212.5 M 28.5 200.5 L 32.5 200.5 M 28.5 189.5 L 32.5 189.5 M 28.5 177.5 L 32.5 177.5 M 28.5 166.5 L 32.5 166.5 M 28.5 154.5 L 32.5 154.5 M 28.5 143.5 L 32.5 143.5 M 28.5 131.5 L 32.5 131.5 M 28.5 120.5 L 32.5 120.5 M 28.5 108.5 L 32.5 108.5 M 28.5 97.5 L 32.5 97.5 M 28.5 85.5 L 32.5 85.5 M 28.5 74.5 L 32.5 74.5 M 28.5 62.5 L 32.5 62.5 M 28.5 51.5 L 32.5 51.5 M 28.5 39.5 L 32.5 39.5 M 28.5 28.5 L 32.5 28.5 M 28.5 16.5 L 32.5 16.5\" stroke-opacity=\"1\" stroke-linejoin=\"bevel\" stroke-miterlimit=\"10\" stroke-dasharray=\"\"/><text fill=\"rgb(68,68,68)\" stroke=\"none\" font-family=\"helvetica\" font-size=\"11px\" font-style=\"normal\" font-weight=\"normal\" text-decoration=\"normal\" x=\"14.883333206176758\" y=\"377\" text-anchor=\"start\" dominant-baseline=\"alphabetic\" transform=\"matrix(1, 0, 0, 1, 0.5, 0.5)\" fill-opacity=\"1\">0</text><text fill=\"none\" stroke=\"rgb(0,0,0)\" font-family=\"helvetica\" font-size=\"11px\" font-style=\"normal\" font-weight=\"normal\" text-decoration=\"normal\" x=\"14.883333206176758\" y=\"377\" text-anchor=\"start\" dominant-baseline=\"alphabetic\" transform=\"matrix(1, 0, 0, 1, 0.5, 0.5)\" stroke-opacity=\"0\" stroke-linejoin=\"bevel\" stroke-miterlimit=\"10\" stroke-dasharray=\"\">0</text><text fill=\"rgb(68,68,68)\" stroke=\"none\" font-family=\"helvetica\" font-size=\"11px\" font-style=\"normal\" font-weight=\"normal\" text-decoration=\"normal\" x=\"2.6499996185302734\" y=\"319.4190368652344\" text-anchor=\"start\" dominant-baseline=\"alphabetic\" transform=\"matrix(1, 0, 0, 1, 0.5, 0.5)\" fill-opacity=\"1\">100</text><text fill=\"none\" stroke=\"rgb(0,0,0)\" font-family=\"helvetica\" font-size=\"11px\" font-style=\"normal\" font-weight=\"normal\" text-decoration=\"normal\" x=\"2.6499996185302734\" y=\"319.4190368652344\" text-anchor=\"start\" dominant-baseline=\"alphabetic\" transform=\"matrix(1, 0, 0, 1, 0.5, 0.5)\" stroke-opacity=\"0\" stroke-linejoin=\"bevel\" stroke-miterlimit=\"10\" stroke-dasharray=\"\">100</text><text fill=\"rgb(68,68,68)\" stroke=\"none\" font-family=\"helvetica\" font-size=\"11px\" font-style=\"normal\" font-weight=\"normal\" text-decoration=\"normal\" x=\"2.6499996185302734\" y=\"261.8380432128906\" text-anchor=\"start\" dominant-baseline=\"alphabetic\" transform=\"matrix(1, 0, 0, 1, 0.5, 0.5)\" fill-opacity=\"1\">200</text><text fill=\"none\" stroke=\"rgb(0,0,0)\" font-family=\"helvetica\" font-size=\"11px\" font-style=\"normal\" font-weight=\"normal\" text-decoration=\"normal\" x=\"2.6499996185302734\" y=\"261.8380432128906\" text-anchor=\"start\" dominant-baseline=\"alphabetic\" transform=\"matrix(1, 0, 0, 1, 0.5, 0.5)\" stroke-opacity=\"0\" stroke-linejoin=\"bevel\" stroke-miterlimit=\"10\" stroke-dasharray=\"\">200</text><text fill=\"rgb(68,68,68)\" stroke=\"none\" font-family=\"helvetica\" font-size=\"11px\" font-style=\"normal\" font-weight=\"normal\" text-decoration=\"normal\" x=\"2.6499996185302734\" y=\"204.257080078125\" text-anchor=\"start\" dominant-baseline=\"alphabetic\" transform=\"matrix(1, 0, 0, 1, 0.5, 0.5)\" fill-opacity=\"1\">300</text><text fill=\"none\" stroke=\"rgb(0,0,0)\" font-family=\"helvetica\" font-size=\"11px\" font-style=\"normal\" font-weight=\"normal\" text-decoration=\"normal\" x=\"2.6499996185302734\" y=\"204.257080078125\" text-anchor=\"start\" dominant-baseline=\"alphabetic\" transform=\"matrix(1, 0, 0, 1, 0.5, 0.5)\" stroke-opacity=\"0\" stroke-linejoin=\"bevel\" stroke-miterlimit=\"10\" stroke-dasharray=\"\">300</text><text fill=\"rgb(68,68,68)\" stroke=\"none\" font-family=\"helvetica\" font-size=\"11px\" font-style=\"normal\" font-weight=\"normal\" text-decoration=\"normal\" x=\"2.6499996185302734\" y=\"146.6761016845703\" text-anchor=\"start\" dominant-baseline=\"alphabetic\" transform=\"matrix(1, 0, 0, 1, 0.5, 0.5)\" fill-opacity=\"1\">400</text><text fill=\"none\" stroke=\"rgb(0,0,0)\" font-family=\"helvetica\" font-size=\"11px\" font-style=\"normal\" font-weight=\"normal\" text-decoration=\"normal\" x=\"2.6499996185302734\" y=\"146.6761016845703\" text-anchor=\"start\" dominant-baseline=\"alphabetic\" transform=\"matrix(1, 0, 0, 1, 0.5, 0.5)\" stroke-opacity=\"0\" stroke-linejoin=\"bevel\" stroke-miterlimit=\"10\" stroke-dasharray=\"\">400</text><text fill=\"rgb(68,68,68)\" stroke=\"none\" font-family=\"helvetica\" font-size=\"11px\" font-style=\"normal\" font-weight=\"normal\" text-decoration=\"normal\" x=\"2.6499996185302734\" y=\"89.09513092041016\" text-anchor=\"start\" dominant-baseline=\"alphabetic\" transform=\"matrix(1, 0, 0, 1, 0.5, 0.5)\" fill-opacity=\"1\">500</text><text fill=\"none\" stroke=\"rgb(0,0,0)\" font-family=\"helvetica\" font-size=\"11px\" font-style=\"normal\" font-weight=\"normal\" text-decoration=\"normal\" x=\"2.6499996185302734\" y=\"89.09513092041016\" text-anchor=\"start\" dominant-baseline=\"alphabetic\" transform=\"matrix(1, 0, 0, 1, 0.5, 0.5)\" stroke-opacity=\"0\" stroke-linejoin=\"bevel\" stroke-miterlimit=\"10\" stroke-dasharray=\"\">500</text><text fill=\"rgb(68,68,68)\" stroke=\"none\" font-family=\"helvetica\" font-size=\"11px\" font-style=\"normal\" font-weight=\"normal\" text-decoration=\"normal\" x=\"2.6499996185302734\" y=\"31.51416015625\" text-anchor=\"start\" dominant-baseline=\"alphabetic\" transform=\"matrix(1, 0, 0, 1, 0.5, 0.5)\" fill-opacity=\"1\">600</text><text fill=\"none\" stroke=\"rgb(0,0,0)\" font-family=\"helvetica\" font-size=\"11px\" font-style=\"normal\" font-weight=\"normal\" text-decoration=\"normal\" x=\"2.6499996185302734\" y=\"31.51416015625\" text-anchor=\"start\" dominant-baseline=\"alphabetic\" transform=\"matrix(1, 0, 0, 1, 0.5, 0.5)\" stroke-opacity=\"0\" stroke-linejoin=\"bevel\" stroke-miterlimit=\"10\" stroke-dasharray=\"\">600</text></svg>",
      "text/plain": [
       "<IPython.core.display.SVG object>"
      ]
     },
     "metadata": {},
     "output_type": "display_data"
    }
   ],
   "source": [
    "for rand_mname, lconf_mname, rand_cls_dist, lconf_cls_dist in zip(\n",
    "        RAND_MNAMES, LEAST_CONF_MNAMES,\n",
    "        RAND_CLS_DISTRIB, LEAST_CONF_CLS_DISTRIB\n",
    "):\n",
    "    rand_classes = list([shorten(label) for label in rand_cls_dist.keys()])\n",
    "    rand_counts = list(rand_cls_dist.values())\n",
    "\n",
    "    lconf_classes = list([shorten(label) for label in lconf_cls_dist.keys()])\n",
    "    lconf_counts = list(lconf_cls_dist.values())\n",
    "\n",
    "    max_y = max(rand_counts+lconf_counts)\n",
    "    max_y = max_y * 1.1\n",
    "\n",
    "    p = figure(x_range=rand_classes,\n",
    "               width=700,\n",
    "               height=400,\n",
    "               output_backend=\"svg\")\n",
    "    p.y_range = Range1d(0, max_y)\n",
    "    p.xaxis.axis_label_text_font_size = '30pt'\n",
    "    p.yaxis.axis_label_text_font_size = '30pt'\n",
    "\n",
    "    p.vbar(x=rand_classes, top=rand_counts, color=colors, width=0.9, line_color=\"black\", line_alpha=0.4)\n",
    "\n",
    "    out_path = FIGURES_DIR / f\"bokeh_rand_class_distribution_{rand_mname}.svg\"\n",
    "    p.toolbar_location = None\n",
    "    export_svg(p, filename=out_path)\n",
    "    print(rand_mname)\n",
    "    display(SVG(filename=out_path))\n",
    "\n",
    "    p = figure(x_range=lconf_classes,\n",
    "               width=700,\n",
    "               height=400,\n",
    "               output_backend=\"svg\")\n",
    "    p.y_range = Range1d(0, max_y)\n",
    "    p.xaxis.axis_label_text_font_size = '30pt'\n",
    "    p.yaxis.axis_label_text_font_size = '30pt'\n",
    "\n",
    "    p.vbar(x=lconf_classes, top=lconf_counts, color=colors, width=0.9, line_color=\"black\", line_alpha=0.4)\n",
    "\n",
    "    out_path = FIGURES_DIR / f\"bokeh_lconf_class_distribution_{lconf_mname}.svg\"\n",
    "    p.toolbar_location = None\n",
    "    export_svg(p, filename=out_path)\n",
    "    print(lconf_mname)\n",
    "    display(SVG(filename=out_path))\n",
    "\n",
    "    break"
   ]
  },
  {
   "cell_type": "code",
   "execution_count": null,
   "metadata": {},
   "outputs": [],
   "source": [
    "assert False"
   ]
  },
  {
   "cell_type": "markdown",
   "metadata": {},
   "source": [
    "## Class distribution in gradually expanding dataset"
   ]
  },
  {
   "cell_type": "code",
   "execution_count": null,
   "metadata": {},
   "outputs": [],
   "source": [
    "sns.set(font_scale=1)\n",
    "for rand_mname, lconf_mname, rand_cls_dist, lconf_cls_dist in zip(\n",
    "        RAND_MNAMES, LEAST_CONF_MNAMES,\n",
    "        RAND_CLS_DISTRIB, LEAST_CONF_CLS_DISTRIB\n",
    "):\n",
    "    rand_classes = list([shorten(label) for label in rand_cls_dist.keys()])\n",
    "    rand_counts = list(rand_cls_dist.values())\n",
    "\n",
    "    lconf_classes = list([shorten(label) for label in lconf_cls_dist.keys()])\n",
    "    lconf_counts = list(lconf_cls_dist.values())\n",
    "\n",
    "    max_y = max(rand_counts+lconf_counts)\n",
    "    max_y = max_y * 1.1\n",
    "\n",
    "\n",
    "    rand_bar = sns.barplot(x=rand_classes, y=rand_counts)\n",
    "\n",
    "    plt.ylim(0, max_y)\n",
    "    plt.savefig(FIGURES_DIR / f\"pl_rand_class_distribution_{rand_mname}.svg\")\n",
    "    print(\"rand_\" + rand_mname)\n",
    "    plt.show()\n",
    "\n",
    "\n",
    "    lconf_bar = sns.barplot(x=lconf_classes, y=lconf_counts)\n",
    "\n",
    "    plt.ylim(0, max_y)\n",
    "#     plt.tick_params(left = False , labelleft = False)\n",
    "    plt.savefig(FIGURES_DIR / f\"03_threshold_pl_lconf_class_distribution_{lconf_mname}.svg\")\n",
    "    print(\"lconf_\" + lconf_mname)\n",
    "    plt.show()\n"
   ]
  },
  {
   "cell_type": "code",
   "execution_count": null,
   "metadata": {},
   "outputs": [],
   "source": []
  }
 ],
 "metadata": {
  "kernelspec": {
   "display_name": "Python 3.8.0 ('bachelor_tp_visuals')",
   "language": "python",
   "name": "python3"
  },
  "language_info": {
   "codemirror_mode": {
    "name": "ipython",
    "version": 3
   },
   "file_extension": ".py",
   "mimetype": "text/x-python",
   "name": "python",
   "nbconvert_exporter": "python",
   "pygments_lexer": "ipython3",
   "version": "3.8.0 | packaged by conda-forge | (default, Nov 22 2019, 19:11:38) \n[GCC 7.3.0]"
  },
  "orig_nbformat": 4,
  "vscode": {
   "interpreter": {
    "hash": "f990454114ec40012f61138adc3fdd606994f0e49c1ee311f2e2638563ceaf32"
   }
  }
 },
 "nbformat": 4,
 "nbformat_minor": 2
}

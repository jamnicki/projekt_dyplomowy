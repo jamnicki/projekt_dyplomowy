{
 "cells": [
  {
   "cell_type": "code",
   "execution_count": 1,
   "metadata": {},
   "outputs": [],
   "source": [
    "import argilla as rg\n",
    "from datasets import load_dataset"
   ]
  },
  {
   "cell_type": "code",
   "execution_count": 2,
   "metadata": {},
   "outputs": [],
   "source": [
    "SEED = 42\n",
    "# TRAIN_NUM_SAMPLES = 400\n",
    "# TEST_NUM_SAMPLES = 100"
   ]
  },
  {
   "cell_type": "code",
   "execution_count": 3,
   "metadata": {},
   "outputs": [
    {
     "name": "stderr",
     "output_type": "stream",
     "text": [
      "Found cached dataset kpwr-ner (/home/jjamnicki/.cache/huggingface/datasets/clarin-pl___kpwr-ner/default/0.0.0/001e3d471298007e8412e3a6ccc06bec000dec1bce0cf8e0ba7e5b7e105b1342)\n"
     ]
    }
   ],
   "source": [
    "train_ds_full = load_dataset(\"clarin-pl/kpwr-ner\", split=\"train\")"
   ]
  },
  {
   "cell_type": "code",
   "execution_count": 4,
   "metadata": {},
   "outputs": [],
   "source": [
    "def _contains_any_label(example, labels):\n",
    "    return any(map(lambda label: label in labels, example[\"ner\"]))\n",
    "\n",
    "# index: label (BIO)\n",
    "include_labels = {\n",
    "    20: \"B-nam_liv_person\", 98: \"I-nam_liv_person\",\n",
    "    27: \"B-nam_loc_gpe_city\", 105: \"I-nam_loc_gpe_city\",\n",
    "    29: \"B-nam_loc_gpe_country\", 107: \"I-nam_loc_gpe_country\"\n",
    "}\n",
    "\n",
    "assert len(include_labels) % 2 == 0\n",
    "\n",
    "labels_num = int(len(include_labels) / 2)"
   ]
  },
  {
   "cell_type": "code",
   "execution_count": 5,
   "metadata": {},
   "outputs": [],
   "source": [
    "TRAIN_DS_NAME = f\"unlabelled_active_learninig_dataset\""
   ]
  },
  {
   "cell_type": "code",
   "execution_count": 6,
   "metadata": {},
   "outputs": [
    {
     "name": "stderr",
     "output_type": "stream",
     "text": [
      "Loading cached processed dataset at /home/jjamnicki/.cache/huggingface/datasets/clarin-pl___kpwr-ner/default/0.0.0/001e3d471298007e8412e3a6ccc06bec000dec1bce0cf8e0ba7e5b7e105b1342/cache-e7fee70cda2db228.arrow\n"
     ]
    }
   ],
   "source": [
    "train_dataset = train_ds_full \\\n",
    "                    .filter(lambda record: _contains_any_label(record, include_labels.keys()))"
   ]
  },
  {
   "cell_type": "code",
   "execution_count": 7,
   "metadata": {},
   "outputs": [
    {
     "data": {
      "text/plain": [
       "3456"
      ]
     },
     "execution_count": 7,
     "metadata": {},
     "output_type": "execute_result"
    }
   ],
   "source": [
    "len(train_dataset)"
   ]
  },
  {
   "cell_type": "code",
   "execution_count": 8,
   "metadata": {},
   "outputs": [
    {
     "name": "stdout",
     "output_type": "stream",
     "text": [
      "tokens: ['Roboty', 'mają', 'kilkanaście', 'lat', 'i', 'pochodzą', 'z', 'USA', ',', 'Wysokie', 'napięcie', 'jest', 'dużo', 'młodsze', ',', 'powstało', 'w', 'Niemczech', '.']\n",
      "\n",
      "lemmas: ['robota', 'maić', 'kilkanaście', 'rok', 'i', 'pochodzić', 'z', 'USA', ',', 'wysoki', 'napięcie', 'być', 'dużo', 'młody', ',', 'powstać', 'w', 'Niemcy', '.']\n",
      "\n",
      "orth: ['subst:pl:nom:f', 'fin:pl:ter:imperf', 'num:pl:acc:m3:rec', 'subst:pl:gen:m3', 'conj', 'fin:pl:ter:imperf', 'prep:gen:nwok', 'subst:pl:gen:n', 'interp', 'adj:sg:nom:n:pos', 'subst:sg:nom:n', 'fin:sg:ter:imperf', 'num:pl:nom:n:rec', 'adj:sg:nom:n:com', 'interp', 'praet:sg:n:perf', 'prep:loc:nwok', 'subst:pl:loc:n', 'interp']\n",
      "\n",
      "ner: [73, 160, 160, 160, 160, 160, 160, 29, 160, 73, 151, 160, 160, 160, 160, 160, 160, 29, 160]\n",
      "\n"
     ]
    }
   ],
   "source": [
    "record_sample = train_dataset[0]\n",
    "for key, item in record_sample.items():\n",
    "    print(f\"{key}: {item}\\n\")"
   ]
  },
  {
   "cell_type": "code",
   "execution_count": 9,
   "metadata": {},
   "outputs": [],
   "source": [
    "def map_idx_to_label(example, labels_dict):\n",
    "    # \"O\" if not in labels to be included\n",
    "    return [\n",
    "        labels_dict[idx] if idx in labels_dict.keys() else \"O\"\n",
    "        for idx in example[\"ner\"]\n",
    "    ]\n",
    "\n",
    "def datasets_to_rg(dataset):\n",
    "    rg_records = [\n",
    "        rg.TokenClassificationRecord(\n",
    "            tokens=example[\"tokens\"]\n",
    "        )\n",
    "        for example in dataset\n",
    "    ]\n",
    "    return rg.DatasetForTokenClassification(rg_records)"
   ]
  },
  {
   "cell_type": "code",
   "execution_count": 10,
   "metadata": {},
   "outputs": [
    {
     "name": "stderr",
     "output_type": "stream",
     "text": [
      "Loading cached shuffled indices for dataset at /home/jjamnicki/.cache/huggingface/datasets/clarin-pl___kpwr-ner/default/0.0.0/001e3d471298007e8412e3a6ccc06bec000dec1bce0cf8e0ba7e5b7e105b1342/cache-fd256080dda81348.arrow\n"
     ]
    }
   ],
   "source": [
    "train_dataset_sample = train_dataset.shuffle(seed=SEED)#.select(range(TRAIN_NUM_SAMPLES))"
   ]
  },
  {
   "cell_type": "code",
   "execution_count": 11,
   "metadata": {},
   "outputs": [],
   "source": [
    "rg_records_train = datasets_to_rg(train_dataset_sample)"
   ]
  },
  {
   "cell_type": "code",
   "execution_count": 12,
   "metadata": {},
   "outputs": [],
   "source": [
    "rg_dataset_train = rg.DatasetForTokenClassification(rg_records_train)"
   ]
  },
  {
   "cell_type": "code",
   "execution_count": 13,
   "metadata": {},
   "outputs": [
    {
     "data": {
      "application/vnd.jupyter.widget-view+json": {
       "model_id": "617f7107b5ee4eb8b6b2c40fd8f43cba",
       "version_major": 2,
       "version_minor": 0
      },
      "text/plain": [
       "  0%|          | 0/3456 [00:00<?, ?it/s]"
      ]
     },
     "metadata": {},
     "output_type": "display_data"
    },
    {
     "name": "stderr",
     "output_type": "stream",
     "text": [
      "An open stream object is being garbage collected; call \"stream.close()\" explicitly.\n",
      "An open stream object is being garbage collected; call \"stream.close()\" explicitly.\n",
      "An open stream object is being garbage collected; call \"stream.close()\" explicitly.\n",
      "An open stream object is being garbage collected; call \"stream.close()\" explicitly.\n",
      "An open stream object is being garbage collected; call \"stream.close()\" explicitly.\n",
      "An open stream object is being garbage collected; call \"stream.close()\" explicitly.\n",
      "An open stream object is being garbage collected; call \"stream.close()\" explicitly.\n"
     ]
    },
    {
     "name": "stdout",
     "output_type": "stream",
     "text": [
      "3456 records logged to http://localhost:6900/datasets/argilla/unlabelled_active_learninig_dataset\n"
     ]
    },
    {
     "data": {
      "text/plain": [
       "BulkResponse(dataset='unlabelled_active_learninig_dataset', processed=3456, failed=0)"
      ]
     },
     "execution_count": 13,
     "metadata": {},
     "output_type": "execute_result"
    }
   ],
   "source": [
    "rg.log(rg_dataset_train, name=TRAIN_DS_NAME)"
   ]
  },
  {
   "cell_type": "markdown",
   "metadata": {},
   "source": [
    "## dobry przykład do displacy ner"
   ]
  },
  {
   "cell_type": "code",
   "execution_count": 14,
   "metadata": {},
   "outputs": [
    {
     "name": "stdout",
     "output_type": "stream",
     "text": [
      "Prezydent Sudanu Omar al - Baszir już zapowiedział , że jego kraj nie będzie współpracował z trybunałem w Hadze .\n",
      "None\n",
      "Robin Haase ( ur . 6 kwietnia 1987 roku w Hadze ) – holenderski tenisista , reprezentant w Pucharze Davisa .\n",
      "None\n"
     ]
    }
   ],
   "source": [
    "for record in rg_dataset_train:\n",
    "    if \"Hadze\" in record.text:\n",
    "        print(record.text)\n",
    "        print(record.annotation)"
   ]
  },
  {
   "cell_type": "code",
   "execution_count": null,
   "metadata": {},
   "outputs": [],
   "source": []
  },
  {
   "cell_type": "code",
   "execution_count": 15,
   "metadata": {},
   "outputs": [],
   "source": [
    "# !jupyter nbconvert --to pdf kpwr-argilla-log.ipynb --output ./misc/kpwr-argilla-log.pdf"
   ]
  },
  {
   "cell_type": "code",
   "execution_count": null,
   "metadata": {},
   "outputs": [],
   "source": []
  }
 ],
 "metadata": {
  "kernelspec": {
   "display_name": "Python 3.8.13 ('bachelor_thesis_project')",
   "language": "python",
   "name": "python3"
  },
  "language_info": {
   "codemirror_mode": {
    "name": "ipython",
    "version": 3
   },
   "file_extension": ".py",
   "mimetype": "text/x-python",
   "name": "python",
   "nbconvert_exporter": "python",
   "pygments_lexer": "ipython3",
   "version": "3.8.0 | packaged by conda-forge | (default, Nov 22 2019, 19:11:38) \n[GCC 7.3.0]"
  },
  "orig_nbformat": 4,
  "vscode": {
   "interpreter": {
    "hash": "eafed9daabf858df0f3705a64ec82c857cb0f5cbb0d0d0aaa78514a506882fec"
   }
  }
 },
 "nbformat": 4,
 "nbformat_minor": 2
}

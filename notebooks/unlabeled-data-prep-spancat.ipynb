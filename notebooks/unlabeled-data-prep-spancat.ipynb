{
 "cells": [
  {
   "cell_type": "code",
   "execution_count": 1,
   "metadata": {},
   "outputs": [],
   "source": [
    "from spacy.lang.pl import Polish\n",
    "from spacy.tokens import DocBin\n",
    "import argilla as rg\n",
    "import pandas as pd\n",
    "from pathlib import Path"
   ]
  },
  {
   "cell_type": "code",
   "execution_count": 2,
   "metadata": {},
   "outputs": [],
   "source": [
    "TRAIN_DS_NAME = \"unlabeled-kpwr-train-3\"\n",
    "TEST_DS_NAME = \"unlabeled-kpwr-test-3\"\n",
    "\n",
    "DATA_DIR = Path(\"data\")\n",
    "\n",
    "DOCBIN_TRAIN_PATH = DATA_DIR / f\"{TRAIN_DS_NAME}.spacy\"\n",
    "DOCBIN_TEST_PATH = DATA_DIR / f\"{TEST_DS_NAME}.spacy\""
   ]
  },
  {
   "cell_type": "code",
   "execution_count": 3,
   "metadata": {},
   "outputs": [],
   "source": [
    "rg_dataset_train = rg.load(name=TRAIN_DS_NAME)\n",
    "rg_dataset_test = rg.load(name=TEST_DS_NAME)"
   ]
  },
  {
   "cell_type": "code",
   "execution_count": 4,
   "metadata": {},
   "outputs": [],
   "source": [
    "df_train = rg_dataset_train.to_pandas()\n",
    "df_test = rg_dataset_test.to_pandas()"
   ]
  },
  {
   "cell_type": "code",
   "execution_count": 5,
   "metadata": {},
   "outputs": [
    {
     "data": {
      "text/html": [
       "<div>\n",
       "<style scoped>\n",
       "    .dataframe tbody tr th:only-of-type {\n",
       "        vertical-align: middle;\n",
       "    }\n",
       "\n",
       "    .dataframe tbody tr th {\n",
       "        vertical-align: top;\n",
       "    }\n",
       "\n",
       "    .dataframe thead th {\n",
       "        text-align: right;\n",
       "    }\n",
       "</style>\n",
       "<table border=\"1\" class=\"dataframe\">\n",
       "  <thead>\n",
       "    <tr style=\"text-align: right;\">\n",
       "      <th></th>\n",
       "      <th>text</th>\n",
       "      <th>tokens</th>\n",
       "      <th>prediction</th>\n",
       "      <th>prediction_agent</th>\n",
       "      <th>annotation</th>\n",
       "      <th>annotation_agent</th>\n",
       "      <th>id</th>\n",
       "      <th>metadata</th>\n",
       "      <th>status</th>\n",
       "      <th>event_timestamp</th>\n",
       "      <th>metrics</th>\n",
       "      <th>search_keywords</th>\n",
       "    </tr>\n",
       "  </thead>\n",
       "  <tbody>\n",
       "    <tr>\n",
       "      <th>0</th>\n",
       "      <td>Na część zarzutów odpowiedział na O ’ Reilly R...</td>\n",
       "      <td>[Na, część, zarzutów, odpowiedział, na, O, ’, ...</td>\n",
       "      <td>None</td>\n",
       "      <td>None</td>\n",
       "      <td>[(nam_liv_person, 51, 72)]</td>\n",
       "      <td>lnx</td>\n",
       "      <td>0006cc13-9ca3-4805-a3fd-54ecee096a5e</td>\n",
       "      <td>{}</td>\n",
       "      <td>Default</td>\n",
       "      <td>None</td>\n",
       "      <td>{'text_length': 74, 'tokens': [{'idx': 0, 'val...</td>\n",
       "      <td>None</td>\n",
       "    </tr>\n",
       "    <tr>\n",
       "      <th>1</th>\n",
       "      <td>Zasadźcami wsi byli dwaj Prusowie bracia Gedek...</td>\n",
       "      <td>[Zasadźcami, wsi, byli, dwaj, Prusowie, bracia...</td>\n",
       "      <td>None</td>\n",
       "      <td>None</td>\n",
       "      <td>[(nam_liv_person, 41, 47), (nam_liv_person, 52...</td>\n",
       "      <td>lnx</td>\n",
       "      <td>000ba4cd-cd6d-4ba5-8b8b-c2f43926d5c3</td>\n",
       "      <td>{}</td>\n",
       "      <td>Default</td>\n",
       "      <td>None</td>\n",
       "      <td>{'text_length': 61, 'tokens': [{'idx': 0, 'val...</td>\n",
       "      <td>None</td>\n",
       "    </tr>\n",
       "    <tr>\n",
       "      <th>2</th>\n",
       "      <td>Borek ( powiat poddębicki )</td>\n",
       "      <td>[Borek, (, powiat, poddębicki, )]</td>\n",
       "      <td>None</td>\n",
       "      <td>None</td>\n",
       "      <td>[(nam_loc_gpe_city, 0, 5)]</td>\n",
       "      <td>lnx</td>\n",
       "      <td>0064cff5-205b-41ad-8dd7-16713b78c958</td>\n",
       "      <td>{}</td>\n",
       "      <td>Default</td>\n",
       "      <td>None</td>\n",
       "      <td>{'text_length': 27, 'tokens': [{'idx': 0, 'val...</td>\n",
       "      <td>None</td>\n",
       "    </tr>\n",
       "    <tr>\n",
       "      <th>3</th>\n",
       "      <td>Helmand : po tygodniu walk Mardża została zdob...</td>\n",
       "      <td>[Helmand, :, po, tygodniu, walk, Mardża, zosta...</td>\n",
       "      <td>None</td>\n",
       "      <td>None</td>\n",
       "      <td>[(nam_loc_gpe_city, 27, 33)]</td>\n",
       "      <td>lnx</td>\n",
       "      <td>008155e2-8258-4a4b-a38d-ae4a824b1ff0</td>\n",
       "      <td>{}</td>\n",
       "      <td>Default</td>\n",
       "      <td>None</td>\n",
       "      <td>{'text_length': 100, 'tokens': [{'idx': 0, 'va...</td>\n",
       "      <td>None</td>\n",
       "    </tr>\n",
       "    <tr>\n",
       "      <th>4</th>\n",
       "      <td>Pitera tą sytuację komentuje następująco : – T...</td>\n",
       "      <td>[Pitera, tą, sytuację, komentuje, następująco,...</td>\n",
       "      <td>None</td>\n",
       "      <td>None</td>\n",
       "      <td>[(nam_liv_person, 0, 6)]</td>\n",
       "      <td>lnx</td>\n",
       "      <td>008bf9c3-6719-427e-b88b-a60383020b2e</td>\n",
       "      <td>{}</td>\n",
       "      <td>Default</td>\n",
       "      <td>None</td>\n",
       "      <td>{'text_length': 102, 'tokens': [{'idx': 0, 'va...</td>\n",
       "      <td>None</td>\n",
       "    </tr>\n",
       "  </tbody>\n",
       "</table>\n",
       "</div>"
      ],
      "text/plain": [
       "                                                text  \\\n",
       "0  Na część zarzutów odpowiedział na O ’ Reilly R...   \n",
       "1  Zasadźcami wsi byli dwaj Prusowie bracia Gedek...   \n",
       "2                        Borek ( powiat poddębicki )   \n",
       "3  Helmand : po tygodniu walk Mardża została zdob...   \n",
       "4  Pitera tą sytuację komentuje następująco : – T...   \n",
       "\n",
       "                                              tokens prediction  \\\n",
       "0  [Na, część, zarzutów, odpowiedział, na, O, ’, ...       None   \n",
       "1  [Zasadźcami, wsi, byli, dwaj, Prusowie, bracia...       None   \n",
       "2                  [Borek, (, powiat, poddębicki, )]       None   \n",
       "3  [Helmand, :, po, tygodniu, walk, Mardża, zosta...       None   \n",
       "4  [Pitera, tą, sytuację, komentuje, następująco,...       None   \n",
       "\n",
       "  prediction_agent                                         annotation  \\\n",
       "0             None                         [(nam_liv_person, 51, 72)]   \n",
       "1             None  [(nam_liv_person, 41, 47), (nam_liv_person, 52...   \n",
       "2             None                         [(nam_loc_gpe_city, 0, 5)]   \n",
       "3             None                       [(nam_loc_gpe_city, 27, 33)]   \n",
       "4             None                           [(nam_liv_person, 0, 6)]   \n",
       "\n",
       "  annotation_agent                                    id metadata   status  \\\n",
       "0              lnx  0006cc13-9ca3-4805-a3fd-54ecee096a5e       {}  Default   \n",
       "1              lnx  000ba4cd-cd6d-4ba5-8b8b-c2f43926d5c3       {}  Default   \n",
       "2              lnx  0064cff5-205b-41ad-8dd7-16713b78c958       {}  Default   \n",
       "3              lnx  008155e2-8258-4a4b-a38d-ae4a824b1ff0       {}  Default   \n",
       "4              lnx  008bf9c3-6719-427e-b88b-a60383020b2e       {}  Default   \n",
       "\n",
       "  event_timestamp                                            metrics  \\\n",
       "0            None  {'text_length': 74, 'tokens': [{'idx': 0, 'val...   \n",
       "1            None  {'text_length': 61, 'tokens': [{'idx': 0, 'val...   \n",
       "2            None  {'text_length': 27, 'tokens': [{'idx': 0, 'val...   \n",
       "3            None  {'text_length': 100, 'tokens': [{'idx': 0, 'va...   \n",
       "4            None  {'text_length': 102, 'tokens': [{'idx': 0, 'va...   \n",
       "\n",
       "  search_keywords  \n",
       "0            None  \n",
       "1            None  \n",
       "2            None  \n",
       "3            None  \n",
       "4            None  "
      ]
     },
     "execution_count": 5,
     "metadata": {},
     "output_type": "execute_result"
    }
   ],
   "source": [
    "df_train.head(5)"
   ]
  },
  {
   "cell_type": "code",
   "execution_count": 6,
   "metadata": {},
   "outputs": [],
   "source": [
    "nlp = Polish()"
   ]
  },
  {
   "cell_type": "code",
   "execution_count": 7,
   "metadata": {},
   "outputs": [],
   "source": [
    "rg_docbin_train = rg_dataset_train.prepare_for_training(framework=\"spacy\", lang=nlp)\n",
    "rg_docbin_test = rg_dataset_test.prepare_for_training(framework=\"spacy\", lang=nlp)"
   ]
  },
  {
   "cell_type": "code",
   "execution_count": 9,
   "metadata": {},
   "outputs": [],
   "source": [
    "rg_docbin_train.to_disk(DOCBIN_TRAIN_PATH)\n",
    "rg_docbin_test.to_disk(DOCBIN_TEST_PATH)"
   ]
  }
 ],
 "metadata": {
  "kernelspec": {
   "display_name": "Python 3.8.13 ('bachelor_thesis_project')",
   "language": "python",
   "name": "python3"
  },
  "language_info": {
   "codemirror_mode": {
    "name": "ipython",
    "version": 3
   },
   "file_extension": ".py",
   "mimetype": "text/x-python",
   "name": "python",
   "nbconvert_exporter": "python",
   "pygments_lexer": "ipython3",
   "version": "3.8.0 | packaged by conda-forge | (default, Nov 22 2019, 19:11:38) \n[GCC 7.3.0]"
  },
  "orig_nbformat": 4,
  "vscode": {
   "interpreter": {
    "hash": "eafed9daabf858df0f3705a64ec82c857cb0f5cbb0d0d0aaa78514a506882fec"
   }
  }
 },
 "nbformat": 4,
 "nbformat_minor": 2
}

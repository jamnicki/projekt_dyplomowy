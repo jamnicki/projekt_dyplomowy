{
 "cells": [
  {
   "cell_type": "code",
   "execution_count": 1,
   "metadata": {},
   "outputs": [],
   "source": [
    "import pandas as pd\n",
    "from random import randint"
   ]
  },
  {
   "cell_type": "code",
   "execution_count": 2,
   "metadata": {},
   "outputs": [
    {
     "name": "stdout",
     "output_type": "stream",
     "text": [
      "\n",
      "    Lp  BezRekomendacji  Zrekomendacjami\n",
      "0   1              459              514\n",
      "1   2              424              525\n",
      "2   3              449              531\n",
      "3   4              499              523\n",
      "4   5              484              537\n",
      "5   6              476              532 \n",
      "\n"
     ]
    },
    {
     "data": {
      "text/plain": [
       "Lp                   3.500000\n",
       "BezRekomendacji    465.166667\n",
       "Zrekomendacjami    527.000000\n",
       "dtype: float64"
      ]
     },
     "execution_count": 2,
     "metadata": {},
     "output_type": "execute_result"
    }
   ],
   "source": [
    "df = pd.DataFrame.from_dict({\n",
    "    \"Lp\": list(range(1, 7)),\n",
    "    \"BezRekomendacji\": [459, 424, 449, 499, 484, 476],\n",
    "    \"Zrekomendacjami\": [514, 525, 531, 523, 537, 532]\n",
    "})\n",
    "\n",
    "print(\"\\n\", df, \"\\n\")\n",
    "\n",
    "df.mean()"
   ]
  },
  {
   "cell_type": "code",
   "execution_count": 3,
   "metadata": {},
   "outputs": [
    {
     "data": {
      "text/plain": [
       "Lp                  1.870829\n",
       "BezRekomendacji    26.873159\n",
       "Zrekomendacjami     8.124038\n",
       "dtype: float64"
      ]
     },
     "execution_count": 3,
     "metadata": {},
     "output_type": "execute_result"
    }
   ],
   "source": [
    "df_std = df.std()\n",
    "df_std"
   ]
  },
  {
   "cell_type": "code",
   "execution_count": 7,
   "metadata": {},
   "outputs": [
    {
     "data": {
      "application/javascript": "(function(root) {\n  function now() {\n    return new Date();\n  }\n\n  const force = true;\n\n  if (typeof root._bokeh_onload_callbacks === \"undefined\" || force === true) {\n    root._bokeh_onload_callbacks = [];\n    root._bokeh_is_loading = undefined;\n  }\n\nconst JS_MIME_TYPE = 'application/javascript';\n  const HTML_MIME_TYPE = 'text/html';\n  const EXEC_MIME_TYPE = 'application/vnd.bokehjs_exec.v0+json';\n  const CLASS_NAME = 'output_bokeh rendered_html';\n\n  /**\n   * Render data to the DOM node\n   */\n  function render(props, node) {\n    const script = document.createElement(\"script\");\n    node.appendChild(script);\n  }\n\n  /**\n   * Handle when an output is cleared or removed\n   */\n  function handleClearOutput(event, handle) {\n    const cell = handle.cell;\n\n    const id = cell.output_area._bokeh_element_id;\n    const server_id = cell.output_area._bokeh_server_id;\n    // Clean up Bokeh references\n    if (id != null && id in Bokeh.index) {\n      Bokeh.index[id].model.document.clear();\n      delete Bokeh.index[id];\n    }\n\n    if (server_id !== undefined) {\n      // Clean up Bokeh references\n      const cmd_clean = \"from bokeh.io.state import curstate; print(curstate().uuid_to_server['\" + server_id + \"'].get_sessions()[0].document.roots[0]._id)\";\n      cell.notebook.kernel.execute(cmd_clean, {\n        iopub: {\n          output: function(msg) {\n            const id = msg.content.text.trim();\n            if (id in Bokeh.index) {\n              Bokeh.index[id].model.document.clear();\n              delete Bokeh.index[id];\n            }\n          }\n        }\n      });\n      // Destroy server and session\n      const cmd_destroy = \"import bokeh.io.notebook as ion; ion.destroy_server('\" + server_id + \"')\";\n      cell.notebook.kernel.execute(cmd_destroy);\n    }\n  }\n\n  /**\n   * Handle when a new output is added\n   */\n  function handleAddOutput(event, handle) {\n    const output_area = handle.output_area;\n    const output = handle.output;\n\n    // limit handleAddOutput to display_data with EXEC_MIME_TYPE content only\n    if ((output.output_type != \"display_data\") || (!Object.prototype.hasOwnProperty.call(output.data, EXEC_MIME_TYPE))) {\n      return\n    }\n\n    const toinsert = output_area.element.find(\".\" + CLASS_NAME.split(' ')[0]);\n\n    if (output.metadata[EXEC_MIME_TYPE][\"id\"] !== undefined) {\n      toinsert[toinsert.length - 1].firstChild.textContent = output.data[JS_MIME_TYPE];\n      // store reference to embed id on output_area\n      output_area._bokeh_element_id = output.metadata[EXEC_MIME_TYPE][\"id\"];\n    }\n    if (output.metadata[EXEC_MIME_TYPE][\"server_id\"] !== undefined) {\n      const bk_div = document.createElement(\"div\");\n      bk_div.innerHTML = output.data[HTML_MIME_TYPE];\n      const script_attrs = bk_div.children[0].attributes;\n      for (let i = 0; i < script_attrs.length; i++) {\n        toinsert[toinsert.length - 1].firstChild.setAttribute(script_attrs[i].name, script_attrs[i].value);\n        toinsert[toinsert.length - 1].firstChild.textContent = bk_div.children[0].textContent\n      }\n      // store reference to server id on output_area\n      output_area._bokeh_server_id = output.metadata[EXEC_MIME_TYPE][\"server_id\"];\n    }\n  }\n\n  function register_renderer(events, OutputArea) {\n\n    function append_mime(data, metadata, element) {\n      // create a DOM node to render to\n      const toinsert = this.create_output_subarea(\n        metadata,\n        CLASS_NAME,\n        EXEC_MIME_TYPE\n      );\n      this.keyboard_manager.register_events(toinsert);\n      // Render to node\n      const props = {data: data, metadata: metadata[EXEC_MIME_TYPE]};\n      render(props, toinsert[toinsert.length - 1]);\n      element.append(toinsert);\n      return toinsert\n    }\n\n    /* Handle when an output is cleared or removed */\n    events.on('clear_output.CodeCell', handleClearOutput);\n    events.on('delete.Cell', handleClearOutput);\n\n    /* Handle when a new output is added */\n    events.on('output_added.OutputArea', handleAddOutput);\n\n    /**\n     * Register the mime type and append_mime function with output_area\n     */\n    OutputArea.prototype.register_mime_type(EXEC_MIME_TYPE, append_mime, {\n      /* Is output safe? */\n      safe: true,\n      /* Index of renderer in `output_area.display_order` */\n      index: 0\n    });\n  }\n\n  // register the mime type if in Jupyter Notebook environment and previously unregistered\n  if (root.Jupyter !== undefined) {\n    const events = require('base/js/events');\n    const OutputArea = require('notebook/js/outputarea').OutputArea;\n\n    if (OutputArea.prototype.mime_types().indexOf(EXEC_MIME_TYPE) == -1) {\n      register_renderer(events, OutputArea);\n    }\n  }\n  if (typeof (root._bokeh_timeout) === \"undefined\" || force === true) {\n    root._bokeh_timeout = Date.now() + 5000;\n    root._bokeh_failed_load = false;\n  }\n\n  const NB_LOAD_WARNING = {'data': {'text/html':\n     \"<div style='background-color: #fdd'>\\n\"+\n     \"<p>\\n\"+\n     \"BokehJS does not appear to have successfully loaded. If loading BokehJS from CDN, this \\n\"+\n     \"may be due to a slow or bad network connection. Possible fixes:\\n\"+\n     \"</p>\\n\"+\n     \"<ul>\\n\"+\n     \"<li>re-rerun `output_notebook()` to attempt to load from CDN again, or</li>\\n\"+\n     \"<li>use INLINE resources instead, as so:</li>\\n\"+\n     \"</ul>\\n\"+\n     \"<code>\\n\"+\n     \"from bokeh.resources import INLINE\\n\"+\n     \"output_notebook(resources=INLINE)\\n\"+\n     \"</code>\\n\"+\n     \"</div>\"}};\n\n  function display_loaded() {\n    const el = document.getElementById(null);\n    if (el != null) {\n      el.textContent = \"BokehJS is loading...\";\n    }\n    if (root.Bokeh !== undefined) {\n      if (el != null) {\n        el.textContent = \"BokehJS \" + root.Bokeh.version + \" successfully loaded.\";\n      }\n    } else if (Date.now() < root._bokeh_timeout) {\n      setTimeout(display_loaded, 100)\n    }\n  }\n\n  function run_callbacks() {\n    try {\n      root._bokeh_onload_callbacks.forEach(function(callback) {\n        if (callback != null)\n          callback();\n      });\n    } finally {\n      delete root._bokeh_onload_callbacks\n    }\n    console.debug(\"Bokeh: all callbacks have finished\");\n  }\n\n  function load_libs(css_urls, js_urls, callback) {\n    if (css_urls == null) css_urls = [];\n    if (js_urls == null) js_urls = [];\n\n    root._bokeh_onload_callbacks.push(callback);\n    if (root._bokeh_is_loading > 0) {\n      console.debug(\"Bokeh: BokehJS is being loaded, scheduling callback at\", now());\n      return null;\n    }\n    if (js_urls == null || js_urls.length === 0) {\n      run_callbacks();\n      return null;\n    }\n    console.debug(\"Bokeh: BokehJS not loaded, scheduling load and callback at\", now());\n    root._bokeh_is_loading = css_urls.length + js_urls.length;\n\n    function on_load() {\n      root._bokeh_is_loading--;\n      if (root._bokeh_is_loading === 0) {\n        console.debug(\"Bokeh: all BokehJS libraries/stylesheets loaded\");\n        run_callbacks()\n      }\n    }\n\n    function on_error(url) {\n      console.error(\"failed to load \" + url);\n    }\n\n    for (let i = 0; i < css_urls.length; i++) {\n      const url = css_urls[i];\n      const element = document.createElement(\"link\");\n      element.onload = on_load;\n      element.onerror = on_error.bind(null, url);\n      element.rel = \"stylesheet\";\n      element.type = \"text/css\";\n      element.href = url;\n      console.debug(\"Bokeh: injecting link tag for BokehJS stylesheet: \", url);\n      document.body.appendChild(element);\n    }\n\n    for (let i = 0; i < js_urls.length; i++) {\n      const url = js_urls[i];\n      const element = document.createElement('script');\n      element.onload = on_load;\n      element.onerror = on_error.bind(null, url);\n      element.async = false;\n      element.src = url;\n      console.debug(\"Bokeh: injecting script tag for BokehJS library: \", url);\n      document.head.appendChild(element);\n    }\n  };\n\n  function inject_raw_css(css) {\n    const element = document.createElement(\"style\");\n    element.appendChild(document.createTextNode(css));\n    document.body.appendChild(element);\n  }\n\n  const js_urls = [\"https://cdn.bokeh.org/bokeh/release/bokeh-3.0.2.min.js\", \"https://cdn.bokeh.org/bokeh/release/bokeh-gl-3.0.2.min.js\", \"https://cdn.bokeh.org/bokeh/release/bokeh-widgets-3.0.2.min.js\", \"https://cdn.bokeh.org/bokeh/release/bokeh-tables-3.0.2.min.js\", \"https://cdn.bokeh.org/bokeh/release/bokeh-mathjax-3.0.2.min.js\"];\n  const css_urls = [];\n\n  const inline_js = [    function(Bokeh) {\n      Bokeh.set_log_level(\"info\");\n    },\nfunction(Bokeh) {\n    }\n  ];\n\n  function run_inline_js() {\n    if (root.Bokeh !== undefined || force === true) {\n          for (let i = 0; i < inline_js.length; i++) {\n      inline_js[i].call(root, root.Bokeh);\n    }\n} else if (Date.now() < root._bokeh_timeout) {\n      setTimeout(run_inline_js, 100);\n    } else if (!root._bokeh_failed_load) {\n      console.log(\"Bokeh: BokehJS failed to load within specified timeout.\");\n      root._bokeh_failed_load = true;\n    } else if (force !== true) {\n      const cell = $(document.getElementById(null)).parents('.cell').data().cell;\n      cell.output_area.append_execute_result(NB_LOAD_WARNING)\n    }\n  }\n\n  if (root._bokeh_is_loading === 0) {\n    console.debug(\"Bokeh: BokehJS loaded, going straight to plotting\");\n    run_inline_js();\n  } else {\n    load_libs(css_urls, js_urls, function() {\n      console.debug(\"Bokeh: BokehJS plotting callback run at\", now());\n      run_inline_js();\n    });\n  }\n}(window));",
      "application/vnd.bokehjs_load.v0+json": ""
     },
     "metadata": {},
     "output_type": "display_data"
    },
    {
     "data": {
      "image/svg+xml": "<svg xmlns=\"http://www.w3.org/2000/svg\" version=\"1.1\" width=\"700\" height=\"400\"><defs><clipPath id=\"SwStdhEUyXHC\"><path fill=\"none\" stroke=\"none\" d=\"M 56.5 5.5 L 695.5 5.5 L 695.5 373.5 L 56.5 373.5 L 56.5 5.5\"/></clipPath><clipPath id=\"aFAqpusclzTi\"><path fill=\"none\" stroke=\"none\" d=\"M 56.5 5.5 L 695.5 5.5 L 695.5 373.5 L 56.5 373.5 L 56.5 5.5\"/></clipPath><clipPath id=\"dtxuyaCzxEQI\"><path fill=\"none\" stroke=\"none\" d=\"M 56.5 5.5 L 695.5 5.5 L 695.5 373.5 L 56.5 373.5 L 56.5 5.5\"/></clipPath><clipPath id=\"JeFhWIxPxsuT\"><path fill=\"none\" stroke=\"none\" d=\"M 56.5 5.5 L 695.5 5.5 L 695.5 373.5 L 56.5 373.5 L 56.5 5.5\"/></clipPath><clipPath id=\"QOZpoQhZfKuN\"><path fill=\"none\" stroke=\"none\" d=\"M 56.5 5.5 L 695.5 5.5 L 695.5 373.5 L 56.5 373.5 L 56.5 5.5\"/></clipPath><clipPath id=\"piASPdvAOHJS\"><path fill=\"none\" stroke=\"none\" d=\"M 56.5 5.5 L 695.5 5.5 L 695.5 373.5 L 56.5 373.5 L 56.5 5.5\"/></clipPath></defs><path fill=\"rgb(255,255,255)\" stroke=\"none\" paint-order=\"stroke\" d=\"M 0.5 0.5 L 700.5 0.5 L 700.5 400.5 L 0.5 400.5 L 0.5 0.5\" fill-opacity=\"1\"/><rect fill=\"#FFFFFF\" stroke=\"none\" x=\"56\" y=\"5\" width=\"639\" height=\"368\" transform=\"matrix(1, 0, 0, 1, 0.5, 0.5)\"/><path fill=\"rgb(255,255,255)\" stroke=\"none\" paint-order=\"stroke\" d=\"M 56.5 5.5 L 695.5 5.5 L 695.5 373.5 L 56.5 373.5 L 56.5 5.5\" fill-opacity=\"1\"/><path fill=\"none\" stroke=\"rgb(229,229,229)\" paint-order=\"fill\" d=\"M 56.5 5.5 L 695.5 5.5 L 695.5 373.5 L 56.5 373.5 L 56.5 5.5\" stroke-opacity=\"1\" stroke-linejoin=\"bevel\" stroke-miterlimit=\"10\" stroke-dasharray=\"\"/><path fill=\"none\" stroke=\"rgb(229,229,229)\" paint-order=\"fill\" d=\"M 56.5 306.5 L 695.5 306.5 M 56.5 240.5 L 695.5 240.5 M 56.5 173.5 L 695.5 173.5 M 56.5 107.5 L 695.5 107.5 M 56.5 40.5 L 695.5 40.5\" stroke-opacity=\"1\" stroke-linejoin=\"bevel\" stroke-miterlimit=\"10\" stroke-dasharray=\"\" clip-path=\"url(#aFAqpusclzTi)\"/><path fill=\"rgb(229,151,151)\" stroke=\"rgb(0,0,0)\" paint-order=\"fill\" d=\"M 72.47500610351562 64.14546203613281 L 360.0249938964844 64.14546203613281 L 360.0249938964844 373.5 L 72.47500610351562 373.5 L 72.47500610351562 64.14546203613281\" fill-opacity=\"1\" clip-path=\"url(#dtxuyaCzxEQI)\" stroke-opacity=\"0.4\" stroke-linejoin=\"bevel\" stroke-miterlimit=\"10\" stroke-dasharray=\"\"/><path fill=\"rgb(46,139,87)\" stroke=\"rgb(0,0,0)\" paint-order=\"fill\" d=\"M 391.9750061035156 23.0238094329834 L 679.5250244140625 23.0238094329834 L 679.5250244140625 373.5 L 391.9750061035156 373.5 L 391.9750061035156 23.0238094329834\" fill-opacity=\"1\" clip-path=\"url(#dtxuyaCzxEQI)\" stroke-opacity=\"0.4\" stroke-linejoin=\"bevel\" stroke-miterlimit=\"10\" stroke-dasharray=\"\"/><g clip-path=\"url(#JeFhWIxPxsuT)\"><text fill=\"rgb(68,68,68)\" stroke=\"none\" font-family=\"helvetica\" font-size=\"16px\" font-style=\"normal\" font-weight=\"normal\" text-decoration=\"normal\" x=\"191.27499961853027\" y=\"218.32273864746094\" text-anchor=\"start\" dominant-baseline=\"alphabetic\" transform=\"matrix(1, 0, 0, 1, 0.5, 0.5)\" fill-opacity=\"1\">465.17</text></g><g clip-path=\"url(#JeFhWIxPxsuT)\"><text fill=\"none\" stroke=\"rgb(0,0,0)\" font-family=\"helvetica\" font-size=\"16px\" font-style=\"normal\" font-weight=\"normal\" text-decoration=\"normal\" x=\"191.27499961853027\" y=\"218.32273864746094\" text-anchor=\"start\" dominant-baseline=\"alphabetic\" transform=\"matrix(1, 0, 0, 1, 0.5, 0.5)\" stroke-opacity=\"0\" stroke-miterlimit=\"10\" stroke-dasharray=\"\">465.17</text></g><g clip-path=\"url(#JeFhWIxPxsuT)\"><text fill=\"rgb(68,68,68)\" stroke=\"none\" font-family=\"helvetica\" font-size=\"16px\" font-style=\"normal\" font-weight=\"normal\" text-decoration=\"normal\" x=\"510.7749996185303\" y=\"197.76190185546875\" text-anchor=\"start\" dominant-baseline=\"alphabetic\" transform=\"matrix(1, 0, 0, 1, 0.5, 0.5)\" fill-opacity=\"1\">527.00</text></g><g clip-path=\"url(#JeFhWIxPxsuT)\"><text fill=\"none\" stroke=\"rgb(0,0,0)\" font-family=\"helvetica\" font-size=\"16px\" font-style=\"normal\" font-weight=\"normal\" text-decoration=\"normal\" x=\"510.7749996185303\" y=\"197.76190185546875\" text-anchor=\"start\" dominant-baseline=\"alphabetic\" transform=\"matrix(1, 0, 0, 1, 0.5, 0.5)\" stroke-opacity=\"0\" stroke-miterlimit=\"10\" stroke-dasharray=\"\">527.00</text></g><path fill=\"none\" stroke=\"rgb(0,0,0)\" paint-order=\"fill\" d=\"M 56.5 373.5 L 695.5 373.5\" stroke-opacity=\"1\" stroke-linejoin=\"bevel\" stroke-miterlimit=\"10\" stroke-dasharray=\"\"/><path fill=\"none\" stroke=\"rgb(0,0,0)\" paint-order=\"fill\" d=\"M 216.5 379.5 L 216.5 371.5 M 535.5 379.5 L 535.5 371.5\" stroke-opacity=\"1\" stroke-linejoin=\"bevel\" stroke-miterlimit=\"10\" stroke-dasharray=\"\"/><path fill=\"none\" stroke=\"rgb(0,0,0)\" paint-order=\"fill\" d=\"\" stroke-opacity=\"1\" stroke-linejoin=\"bevel\" stroke-miterlimit=\"10\" stroke-dasharray=\"\"/><text fill=\"rgb(68,68,68)\" stroke=\"none\" font-family=\"helvetica\" font-size=\"11px\" font-style=\"normal\" font-weight=\"normal\" text-decoration=\"normal\" x=\"172.03333282470703\" y=\"395\" text-anchor=\"start\" dominant-baseline=\"alphabetic\" transform=\"matrix(1, 0, 0, 1, 0.5, 0.5)\" fill-opacity=\"1\">Bez rekomendacji</text><text fill=\"none\" stroke=\"rgb(0,0,0)\" font-family=\"helvetica\" font-size=\"11px\" font-style=\"normal\" font-weight=\"normal\" text-decoration=\"normal\" x=\"172.03333282470703\" y=\"395\" text-anchor=\"start\" dominant-baseline=\"alphabetic\" transform=\"matrix(1, 0, 0, 1, 0.5, 0.5)\" stroke-opacity=\"0\" stroke-linejoin=\"bevel\" stroke-miterlimit=\"10\" stroke-dasharray=\"\">Bez rekomendacji</text><text fill=\"rgb(68,68,68)\" stroke=\"none\" font-family=\"helvetica\" font-size=\"11px\" font-style=\"normal\" font-weight=\"normal\" text-decoration=\"normal\" x=\"490.0083351135254\" y=\"395\" text-anchor=\"start\" dominant-baseline=\"alphabetic\" transform=\"matrix(1, 0, 0, 1, 0.5, 0.5)\" fill-opacity=\"1\">Z rekomendacjami</text><text fill=\"none\" stroke=\"rgb(0,0,0)\" font-family=\"helvetica\" font-size=\"11px\" font-style=\"normal\" font-weight=\"normal\" text-decoration=\"normal\" x=\"490.0083351135254\" y=\"395\" text-anchor=\"start\" dominant-baseline=\"alphabetic\" transform=\"matrix(1, 0, 0, 1, 0.5, 0.5)\" stroke-opacity=\"0\" stroke-linejoin=\"bevel\" stroke-miterlimit=\"10\" stroke-dasharray=\"\">Z rekomendacjami</text><path fill=\"none\" stroke=\"rgb(0,0,0)\" paint-order=\"fill\" d=\"M 56.5 373.5 L 56.5 5.5\" stroke-opacity=\"1\" stroke-linejoin=\"bevel\" stroke-miterlimit=\"10\" stroke-dasharray=\"\"/><path fill=\"none\" stroke=\"rgb(0,0,0)\" paint-order=\"fill\" d=\"M 50.5 373.5 L 58.5 373.5 M 50.5 306.5 L 58.5 306.5 M 50.5 240.5 L 58.5 240.5 M 50.5 173.5 L 58.5 173.5 M 50.5 107.5 L 58.5 107.5 M 50.5 40.5 L 58.5 40.5\" stroke-opacity=\"1\" stroke-linejoin=\"bevel\" stroke-miterlimit=\"10\" stroke-dasharray=\"\"/><path fill=\"none\" stroke=\"rgb(0,0,0)\" paint-order=\"fill\" d=\"M 52.5 373.5 L 56.5 373.5 M 52.5 360.5 L 56.5 360.5 M 52.5 346.5 L 56.5 346.5 M 52.5 333.5 L 56.5 333.5 M 52.5 320.5 L 56.5 320.5 M 52.5 306.5 L 56.5 306.5 M 52.5 293.5 L 56.5 293.5 M 52.5 280.5 L 56.5 280.5 M 52.5 267.5 L 56.5 267.5 M 52.5 253.5 L 56.5 253.5 M 52.5 240.5 L 56.5 240.5 M 52.5 227.5 L 56.5 227.5 M 52.5 213.5 L 56.5 213.5 M 52.5 200.5 L 56.5 200.5 M 52.5 187.5 L 56.5 187.5 M 52.5 173.5 L 56.5 173.5 M 52.5 160.5 L 56.5 160.5 M 52.5 147.5 L 56.5 147.5 M 52.5 134.5 L 56.5 134.5 M 52.5 120.5 L 56.5 120.5 M 52.5 107.5 L 56.5 107.5 M 52.5 94.5 L 56.5 94.5 M 52.5 80.5 L 56.5 80.5 M 52.5 67.5 L 56.5 67.5 M 52.5 54.5 L 56.5 54.5 M 52.5 40.5 L 56.5 40.5 M 52.5 27.5 L 56.5 27.5 M 52.5 14.5 L 56.5 14.5\" stroke-opacity=\"1\" stroke-linejoin=\"bevel\" stroke-miterlimit=\"10\" stroke-dasharray=\"\"/><text fill=\"rgb(68,68,68)\" stroke=\"none\" font-family=\"helvetica\" font-size=\"11px\" font-style=\"normal\" font-weight=\"normal\" text-decoration=\"normal\" x=\"38.88333320617676\" y=\"377\" text-anchor=\"start\" dominant-baseline=\"alphabetic\" transform=\"matrix(1, 0, 0, 1, 0.5, 0.5)\" fill-opacity=\"1\">0</text><text fill=\"none\" stroke=\"rgb(0,0,0)\" font-family=\"helvetica\" font-size=\"11px\" font-style=\"normal\" font-weight=\"normal\" text-decoration=\"normal\" x=\"38.88333320617676\" y=\"377\" text-anchor=\"start\" dominant-baseline=\"alphabetic\" transform=\"matrix(1, 0, 0, 1, 0.5, 0.5)\" stroke-opacity=\"0\" stroke-linejoin=\"bevel\" stroke-miterlimit=\"10\" stroke-dasharray=\"\">0</text><text fill=\"rgb(68,68,68)\" stroke=\"none\" font-family=\"helvetica\" font-size=\"11px\" font-style=\"normal\" font-weight=\"normal\" text-decoration=\"normal\" x=\"26.649999618530273\" y=\"310.4959716796875\" text-anchor=\"start\" dominant-baseline=\"alphabetic\" transform=\"matrix(1, 0, 0, 1, 0.5, 0.5)\" fill-opacity=\"1\">100</text><text fill=\"none\" stroke=\"rgb(0,0,0)\" font-family=\"helvetica\" font-size=\"11px\" font-style=\"normal\" font-weight=\"normal\" text-decoration=\"normal\" x=\"26.649999618530273\" y=\"310.4959716796875\" text-anchor=\"start\" dominant-baseline=\"alphabetic\" transform=\"matrix(1, 0, 0, 1, 0.5, 0.5)\" stroke-opacity=\"0\" stroke-linejoin=\"bevel\" stroke-miterlimit=\"10\" stroke-dasharray=\"\">100</text><text fill=\"rgb(68,68,68)\" stroke=\"none\" font-family=\"helvetica\" font-size=\"11px\" font-style=\"normal\" font-weight=\"normal\" text-decoration=\"normal\" x=\"26.649999618530273\" y=\"243.99195861816406\" text-anchor=\"start\" dominant-baseline=\"alphabetic\" transform=\"matrix(1, 0, 0, 1, 0.5, 0.5)\" fill-opacity=\"1\">200</text><text fill=\"none\" stroke=\"rgb(0,0,0)\" font-family=\"helvetica\" font-size=\"11px\" font-style=\"normal\" font-weight=\"normal\" text-decoration=\"normal\" x=\"26.649999618530273\" y=\"243.99195861816406\" text-anchor=\"start\" dominant-baseline=\"alphabetic\" transform=\"matrix(1, 0, 0, 1, 0.5, 0.5)\" stroke-opacity=\"0\" stroke-linejoin=\"bevel\" stroke-miterlimit=\"10\" stroke-dasharray=\"\">200</text><text fill=\"rgb(68,68,68)\" stroke=\"none\" font-family=\"helvetica\" font-size=\"11px\" font-style=\"normal\" font-weight=\"normal\" text-decoration=\"normal\" x=\"26.649999618530273\" y=\"177.48793029785156\" text-anchor=\"start\" dominant-baseline=\"alphabetic\" transform=\"matrix(1, 0, 0, 1, 0.5, 0.5)\" fill-opacity=\"1\">300</text><text fill=\"none\" stroke=\"rgb(0,0,0)\" font-family=\"helvetica\" font-size=\"11px\" font-style=\"normal\" font-weight=\"normal\" text-decoration=\"normal\" x=\"26.649999618530273\" y=\"177.48793029785156\" text-anchor=\"start\" dominant-baseline=\"alphabetic\" transform=\"matrix(1, 0, 0, 1, 0.5, 0.5)\" stroke-opacity=\"0\" stroke-linejoin=\"bevel\" stroke-miterlimit=\"10\" stroke-dasharray=\"\">300</text><text fill=\"rgb(68,68,68)\" stroke=\"none\" font-family=\"helvetica\" font-size=\"11px\" font-style=\"normal\" font-weight=\"normal\" text-decoration=\"normal\" x=\"26.649999618530273\" y=\"110.98391723632812\" text-anchor=\"start\" dominant-baseline=\"alphabetic\" transform=\"matrix(1, 0, 0, 1, 0.5, 0.5)\" fill-opacity=\"1\">400</text><text fill=\"none\" stroke=\"rgb(0,0,0)\" font-family=\"helvetica\" font-size=\"11px\" font-style=\"normal\" font-weight=\"normal\" text-decoration=\"normal\" x=\"26.649999618530273\" y=\"110.98391723632812\" text-anchor=\"start\" dominant-baseline=\"alphabetic\" transform=\"matrix(1, 0, 0, 1, 0.5, 0.5)\" stroke-opacity=\"0\" stroke-linejoin=\"bevel\" stroke-miterlimit=\"10\" stroke-dasharray=\"\">400</text><text fill=\"rgb(68,68,68)\" stroke=\"none\" font-family=\"helvetica\" font-size=\"11px\" font-style=\"normal\" font-weight=\"normal\" text-decoration=\"normal\" x=\"26.649999618530273\" y=\"44.479896545410156\" text-anchor=\"start\" dominant-baseline=\"alphabetic\" transform=\"matrix(1, 0, 0, 1, 0.5, 0.5)\" fill-opacity=\"1\">500</text><text fill=\"none\" stroke=\"rgb(0,0,0)\" font-family=\"helvetica\" font-size=\"11px\" font-style=\"normal\" font-weight=\"normal\" text-decoration=\"normal\" x=\"26.649999618530273\" y=\"44.479896545410156\" text-anchor=\"start\" dominant-baseline=\"alphabetic\" transform=\"matrix(1, 0, 0, 1, 0.5, 0.5)\" stroke-opacity=\"0\" stroke-linejoin=\"bevel\" stroke-miterlimit=\"10\" stroke-dasharray=\"\">500</text><text fill=\"rgb(68,68,68)\" stroke=\"none\" font-family=\"helvetica\" font-size=\"13px\" font-style=\"italic\" font-weight=\"normal\" text-decoration=\"normal\" x=\"-51.82499885559082\" y=\"186\" text-anchor=\"start\" dominant-baseline=\"alphabetic\" transform=\"matrix(6.123233995736766e-17, -1, 1, 6.123233995736766e-17, -169.85000038146973, 208.14999961853027)\" fill-opacity=\"1\">Średnia liczba oznaczeń</text><text fill=\"none\" stroke=\"rgb(0,0,0)\" font-family=\"helvetica\" font-size=\"13px\" font-style=\"italic\" font-weight=\"normal\" text-decoration=\"normal\" x=\"-51.82499885559082\" y=\"186\" text-anchor=\"start\" dominant-baseline=\"alphabetic\" transform=\"matrix(6.123233995736766e-17, -1, 1, 6.123233995736766e-17, -169.85000038146973, 208.14999961853027)\" stroke-opacity=\"0\" stroke-linejoin=\"bevel\" stroke-miterlimit=\"10\" stroke-dasharray=\"\">Średnia liczba oznaczeń</text><path fill=\"none\" stroke=\"rgb(0,0,0)\" paint-order=\"fill\" d=\"M 216.25 82.01719665527344 L 216.25 46.27373123168945\" stroke-opacity=\"1\" stroke-linejoin=\"bevel\" stroke-miterlimit=\"10\" stroke-dasharray=\"\" clip-path=\"url(#QOZpoQhZfKuN)\"/><path fill=\"none\" stroke=\"rgb(0,0,0)\" paint-order=\"fill\" d=\"M 535.75 28.42662239074707 L 535.75 17.620996475219727\" stroke-opacity=\"1\" stroke-linejoin=\"bevel\" stroke-miterlimit=\"10\" stroke-dasharray=\"\" clip-path=\"url(#QOZpoQhZfKuN)\"/><path fill=\"none\" stroke=\"rgb(0,0,0)\" paint-order=\"fill\" d=\"M 211.25 82.01719665527344 L 221.25 82.01719665527344\" stroke-opacity=\"1\" stroke-linejoin=\"bevel\" stroke-miterlimit=\"10\" stroke-dasharray=\"\" clip-path=\"url(#QOZpoQhZfKuN)\"/><path fill=\"none\" stroke=\"rgb(0,0,0)\" paint-order=\"fill\" d=\"M 530.75 28.42662239074707 L 540.75 28.42662239074707\" stroke-opacity=\"1\" stroke-linejoin=\"bevel\" stroke-miterlimit=\"10\" stroke-dasharray=\"\" clip-path=\"url(#QOZpoQhZfKuN)\"/><path fill=\"none\" stroke=\"rgb(0,0,0)\" paint-order=\"fill\" d=\"M 221.25 46.27373123168945 L 211.25 46.27373123168945\" stroke-opacity=\"1\" stroke-linejoin=\"bevel\" stroke-miterlimit=\"10\" stroke-dasharray=\"\" clip-path=\"url(#QOZpoQhZfKuN)\"/><path fill=\"none\" stroke=\"rgb(0,0,0)\" paint-order=\"fill\" d=\"M 540.75 17.620996475219727 L 530.75 17.620996475219727\" stroke-opacity=\"1\" stroke-linejoin=\"bevel\" stroke-miterlimit=\"10\" stroke-dasharray=\"\" clip-path=\"url(#QOZpoQhZfKuN)\"/></svg>",
      "text/plain": [
       "<IPython.core.display.SVG object>"
      ]
     },
     "metadata": {},
     "output_type": "display_data"
    }
   ],
   "source": [
    "from bokeh.io import output_notebook, show, export_svg\n",
    "from bokeh.plotting import figure\n",
    "from bokeh.models import Range1d, ColumnDataSource, Whisker, LabelSet\n",
    "\n",
    "output_notebook(hide_banner=True)\n",
    "\n",
    "from IPython.display import SVG, display\n",
    "from pathlib import Path\n",
    "import numpy as np\n",
    "\n",
    "\n",
    "FIGURES_DIR = Path(\"figures\")\n",
    "FIGURES_DIR.mkdir(exist_ok=True, parents=True)\n",
    "\n",
    "\n",
    "labels = [\"Bez rekomendacji\", \"Z rekomendacjami\"]\n",
    "mean_times = [df.BezRekomendacji.mean(), df.Zrekomendacjami.mean()]\n",
    "upper = [mean_times[0] + df_std.BezRekomendacji, mean_times[1] + df_std.Zrekomendacjami]\n",
    "lower = [mean_times[0] - df_std.BezRekomendacji, mean_times[1] - df_std.Zrekomendacjami]\n",
    "\n",
    "p = figure(x_range=labels,\n",
    "           y_axis_label=\"Średnia liczba oznaczeń\",\n",
    "           width=700,\n",
    "           height=400,\n",
    "           output_backend=\"svg\")\n",
    "\n",
    "p.vbar(x=labels, top=mean_times, color=[\"#E59797\", \"seagreen\"], width=0.9, line_color=\"black\", line_alpha=0.4)\n",
    "\n",
    "source_std = ColumnDataSource(data=dict(base=labels, lower=lower, upper=upper))\n",
    "p.add_layout(\n",
    "    Whisker(source=source_std, base=\"base\", upper=\"upper\", lower=\"lower\", level=\"overlay\")\n",
    ")\n",
    "\n",
    "source_text = ColumnDataSource(data=dict(\n",
    "    x=labels,\n",
    "    y=[df.BezRekomendacji.mean() / 2, df.Zrekomendacjami.mean() / 2],\n",
    "    text=list(map(lambda x: f\"{x:.2f}\", mean_times))\n",
    "))\n",
    "txt_set = LabelSet(source=source_text, x=\"x\", y=\"y\", text=\"text\", level=\"glyph\",\n",
    "                   text_align=\"center\")\n",
    "p.add_layout(txt_set)\n",
    "\n",
    "p.xgrid.grid_line_color = None\n",
    "p.y_range.start = 0\n",
    "\n",
    "out_path = FIGURES_DIR / f\"users-ann-time.svg\"\n",
    "p.toolbar_location = None\n",
    "export_svg(p, filename=out_path)\n",
    "display(SVG(filename=out_path))"
   ]
  },
  {
   "cell_type": "code",
   "execution_count": null,
   "metadata": {},
   "outputs": [],
   "source": []
  }
 ],
 "metadata": {
  "kernelspec": {
   "display_name": "bachelor_tp_visuals",
   "language": "python",
   "name": "python3"
  },
  "language_info": {
   "codemirror_mode": {
    "name": "ipython",
    "version": 3
   },
   "file_extension": ".py",
   "mimetype": "text/x-python",
   "name": "python",
   "nbconvert_exporter": "python",
   "pygments_lexer": "ipython3",
   "version": "3.8.0 | packaged by conda-forge | (default, Nov 22 2019, 19:11:38) \n[GCC 7.3.0]"
  },
  "orig_nbformat": 4,
  "vscode": {
   "interpreter": {
    "hash": "f990454114ec40012f61138adc3fdd606994f0e49c1ee311f2e2638563ceaf32"
   }
  }
 },
 "nbformat": 4,
 "nbformat_minor": 2
}

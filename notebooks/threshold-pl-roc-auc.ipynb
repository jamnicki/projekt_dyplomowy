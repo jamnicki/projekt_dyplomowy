{
 "cells": [
  {
   "cell_type": "code",
   "execution_count": 1,
   "metadata": {},
   "outputs": [
    {
     "data": {
      "application/javascript": "(function(root) {\n  function now() {\n    return new Date();\n  }\n\n  const force = true;\n\n  if (typeof root._bokeh_onload_callbacks === \"undefined\" || force === true) {\n    root._bokeh_onload_callbacks = [];\n    root._bokeh_is_loading = undefined;\n  }\n\nconst JS_MIME_TYPE = 'application/javascript';\n  const HTML_MIME_TYPE = 'text/html';\n  const EXEC_MIME_TYPE = 'application/vnd.bokehjs_exec.v0+json';\n  const CLASS_NAME = 'output_bokeh rendered_html';\n\n  /**\n   * Render data to the DOM node\n   */\n  function render(props, node) {\n    const script = document.createElement(\"script\");\n    node.appendChild(script);\n  }\n\n  /**\n   * Handle when an output is cleared or removed\n   */\n  function handleClearOutput(event, handle) {\n    const cell = handle.cell;\n\n    const id = cell.output_area._bokeh_element_id;\n    const server_id = cell.output_area._bokeh_server_id;\n    // Clean up Bokeh references\n    if (id != null && id in Bokeh.index) {\n      Bokeh.index[id].model.document.clear();\n      delete Bokeh.index[id];\n    }\n\n    if (server_id !== undefined) {\n      // Clean up Bokeh references\n      const cmd_clean = \"from bokeh.io.state import curstate; print(curstate().uuid_to_server['\" + server_id + \"'].get_sessions()[0].document.roots[0]._id)\";\n      cell.notebook.kernel.execute(cmd_clean, {\n        iopub: {\n          output: function(msg) {\n            const id = msg.content.text.trim();\n            if (id in Bokeh.index) {\n              Bokeh.index[id].model.document.clear();\n              delete Bokeh.index[id];\n            }\n          }\n        }\n      });\n      // Destroy server and session\n      const cmd_destroy = \"import bokeh.io.notebook as ion; ion.destroy_server('\" + server_id + \"')\";\n      cell.notebook.kernel.execute(cmd_destroy);\n    }\n  }\n\n  /**\n   * Handle when a new output is added\n   */\n  function handleAddOutput(event, handle) {\n    const output_area = handle.output_area;\n    const output = handle.output;\n\n    // limit handleAddOutput to display_data with EXEC_MIME_TYPE content only\n    if ((output.output_type != \"display_data\") || (!Object.prototype.hasOwnProperty.call(output.data, EXEC_MIME_TYPE))) {\n      return\n    }\n\n    const toinsert = output_area.element.find(\".\" + CLASS_NAME.split(' ')[0]);\n\n    if (output.metadata[EXEC_MIME_TYPE][\"id\"] !== undefined) {\n      toinsert[toinsert.length - 1].firstChild.textContent = output.data[JS_MIME_TYPE];\n      // store reference to embed id on output_area\n      output_area._bokeh_element_id = output.metadata[EXEC_MIME_TYPE][\"id\"];\n    }\n    if (output.metadata[EXEC_MIME_TYPE][\"server_id\"] !== undefined) {\n      const bk_div = document.createElement(\"div\");\n      bk_div.innerHTML = output.data[HTML_MIME_TYPE];\n      const script_attrs = bk_div.children[0].attributes;\n      for (let i = 0; i < script_attrs.length; i++) {\n        toinsert[toinsert.length - 1].firstChild.setAttribute(script_attrs[i].name, script_attrs[i].value);\n        toinsert[toinsert.length - 1].firstChild.textContent = bk_div.children[0].textContent\n      }\n      // store reference to server id on output_area\n      output_area._bokeh_server_id = output.metadata[EXEC_MIME_TYPE][\"server_id\"];\n    }\n  }\n\n  function register_renderer(events, OutputArea) {\n\n    function append_mime(data, metadata, element) {\n      // create a DOM node to render to\n      const toinsert = this.create_output_subarea(\n        metadata,\n        CLASS_NAME,\n        EXEC_MIME_TYPE\n      );\n      this.keyboard_manager.register_events(toinsert);\n      // Render to node\n      const props = {data: data, metadata: metadata[EXEC_MIME_TYPE]};\n      render(props, toinsert[toinsert.length - 1]);\n      element.append(toinsert);\n      return toinsert\n    }\n\n    /* Handle when an output is cleared or removed */\n    events.on('clear_output.CodeCell', handleClearOutput);\n    events.on('delete.Cell', handleClearOutput);\n\n    /* Handle when a new output is added */\n    events.on('output_added.OutputArea', handleAddOutput);\n\n    /**\n     * Register the mime type and append_mime function with output_area\n     */\n    OutputArea.prototype.register_mime_type(EXEC_MIME_TYPE, append_mime, {\n      /* Is output safe? */\n      safe: true,\n      /* Index of renderer in `output_area.display_order` */\n      index: 0\n    });\n  }\n\n  // register the mime type if in Jupyter Notebook environment and previously unregistered\n  if (root.Jupyter !== undefined) {\n    const events = require('base/js/events');\n    const OutputArea = require('notebook/js/outputarea').OutputArea;\n\n    if (OutputArea.prototype.mime_types().indexOf(EXEC_MIME_TYPE) == -1) {\n      register_renderer(events, OutputArea);\n    }\n  }\n  if (typeof (root._bokeh_timeout) === \"undefined\" || force === true) {\n    root._bokeh_timeout = Date.now() + 5000;\n    root._bokeh_failed_load = false;\n  }\n\n  const NB_LOAD_WARNING = {'data': {'text/html':\n     \"<div style='background-color: #fdd'>\\n\"+\n     \"<p>\\n\"+\n     \"BokehJS does not appear to have successfully loaded. If loading BokehJS from CDN, this \\n\"+\n     \"may be due to a slow or bad network connection. Possible fixes:\\n\"+\n     \"</p>\\n\"+\n     \"<ul>\\n\"+\n     \"<li>re-rerun `output_notebook()` to attempt to load from CDN again, or</li>\\n\"+\n     \"<li>use INLINE resources instead, as so:</li>\\n\"+\n     \"</ul>\\n\"+\n     \"<code>\\n\"+\n     \"from bokeh.resources import INLINE\\n\"+\n     \"output_notebook(resources=INLINE)\\n\"+\n     \"</code>\\n\"+\n     \"</div>\"}};\n\n  function display_loaded() {\n    const el = document.getElementById(null);\n    if (el != null) {\n      el.textContent = \"BokehJS is loading...\";\n    }\n    if (root.Bokeh !== undefined) {\n      if (el != null) {\n        el.textContent = \"BokehJS \" + root.Bokeh.version + \" successfully loaded.\";\n      }\n    } else if (Date.now() < root._bokeh_timeout) {\n      setTimeout(display_loaded, 100)\n    }\n  }\n\n  function run_callbacks() {\n    try {\n      root._bokeh_onload_callbacks.forEach(function(callback) {\n        if (callback != null)\n          callback();\n      });\n    } finally {\n      delete root._bokeh_onload_callbacks\n    }\n    console.debug(\"Bokeh: all callbacks have finished\");\n  }\n\n  function load_libs(css_urls, js_urls, callback) {\n    if (css_urls == null) css_urls = [];\n    if (js_urls == null) js_urls = [];\n\n    root._bokeh_onload_callbacks.push(callback);\n    if (root._bokeh_is_loading > 0) {\n      console.debug(\"Bokeh: BokehJS is being loaded, scheduling callback at\", now());\n      return null;\n    }\n    if (js_urls == null || js_urls.length === 0) {\n      run_callbacks();\n      return null;\n    }\n    console.debug(\"Bokeh: BokehJS not loaded, scheduling load and callback at\", now());\n    root._bokeh_is_loading = css_urls.length + js_urls.length;\n\n    function on_load() {\n      root._bokeh_is_loading--;\n      if (root._bokeh_is_loading === 0) {\n        console.debug(\"Bokeh: all BokehJS libraries/stylesheets loaded\");\n        run_callbacks()\n      }\n    }\n\n    function on_error(url) {\n      console.error(\"failed to load \" + url);\n    }\n\n    for (let i = 0; i < css_urls.length; i++) {\n      const url = css_urls[i];\n      const element = document.createElement(\"link\");\n      element.onload = on_load;\n      element.onerror = on_error.bind(null, url);\n      element.rel = \"stylesheet\";\n      element.type = \"text/css\";\n      element.href = url;\n      console.debug(\"Bokeh: injecting link tag for BokehJS stylesheet: \", url);\n      document.body.appendChild(element);\n    }\n\n    for (let i = 0; i < js_urls.length; i++) {\n      const url = js_urls[i];\n      const element = document.createElement('script');\n      element.onload = on_load;\n      element.onerror = on_error.bind(null, url);\n      element.async = false;\n      element.src = url;\n      console.debug(\"Bokeh: injecting script tag for BokehJS library: \", url);\n      document.head.appendChild(element);\n    }\n  };\n\n  function inject_raw_css(css) {\n    const element = document.createElement(\"style\");\n    element.appendChild(document.createTextNode(css));\n    document.body.appendChild(element);\n  }\n\n  const js_urls = [\"https://cdn.bokeh.org/bokeh/release/bokeh-3.0.2.min.js\", \"https://cdn.bokeh.org/bokeh/release/bokeh-gl-3.0.2.min.js\", \"https://cdn.bokeh.org/bokeh/release/bokeh-widgets-3.0.2.min.js\", \"https://cdn.bokeh.org/bokeh/release/bokeh-tables-3.0.2.min.js\", \"https://cdn.bokeh.org/bokeh/release/bokeh-mathjax-3.0.2.min.js\"];\n  const css_urls = [];\n\n  const inline_js = [    function(Bokeh) {\n      Bokeh.set_log_level(\"info\");\n    },\nfunction(Bokeh) {\n    }\n  ];\n\n  function run_inline_js() {\n    if (root.Bokeh !== undefined || force === true) {\n          for (let i = 0; i < inline_js.length; i++) {\n      inline_js[i].call(root, root.Bokeh);\n    }\n} else if (Date.now() < root._bokeh_timeout) {\n      setTimeout(run_inline_js, 100);\n    } else if (!root._bokeh_failed_load) {\n      console.log(\"Bokeh: BokehJS failed to load within specified timeout.\");\n      root._bokeh_failed_load = true;\n    } else if (force !== true) {\n      const cell = $(document.getElementById(null)).parents('.cell').data().cell;\n      cell.output_area.append_execute_result(NB_LOAD_WARNING)\n    }\n  }\n\n  if (root._bokeh_is_loading === 0) {\n    console.debug(\"Bokeh: BokehJS loaded, going straight to plotting\");\n    run_inline_js();\n  } else {\n    load_libs(css_urls, js_urls, function() {\n      console.debug(\"Bokeh: BokehJS plotting callback run at\", now());\n      run_inline_js();\n    });\n  }\n}(window));",
      "application/vnd.bokehjs_load.v0+json": ""
     },
     "metadata": {},
     "output_type": "display_data"
    }
   ],
   "source": [
    "from bokeh.io import output_notebook, show, export_png, export_svg\n",
    "from bokeh.plotting import figure\n",
    "from bokeh.models import Range1d\n",
    "\n",
    "output_notebook(hide_banner=True)\n",
    "\n",
    "from IPython.display import SVG, display\n",
    "\n",
    "import spacy\n",
    "from spacy.training import Corpus\n",
    "\n",
    "import os\n",
    "import numpy as np\n",
    "from pathlib import Path\n",
    "from collections import defaultdict\n",
    "from tqdm import tqdm"
   ]
  },
  {
   "cell_type": "code",
   "execution_count": 2,
   "metadata": {},
   "outputs": [],
   "source": [
    "FIGURES_DIR = Path(\"figures\") / Path(\"roc-auc\")\n",
    "FIGURES_DIR.mkdir(exist_ok=True, parents=True)\n",
    "\n",
    "SHORT_LABELS = [\"osoba\", \"miasto\", \"kraj\", \"O\"]"
   ]
  },
  {
   "cell_type": "code",
   "execution_count": 3,
   "metadata": {},
   "outputs": [],
   "source": [
    "RAND_MDIR = \"../runs/random_50i_50n_kpwr-full_1669041088f13043/models\"\n",
    "\n",
    "ITERATIONS = 50\n",
    "N_INSTANCES = 50"
   ]
  },
  {
   "cell_type": "code",
   "execution_count": 4,
   "metadata": {},
   "outputs": [
    {
     "name": "stderr",
     "output_type": "stream",
     "text": [
      "/home/jjamnicki/miniconda3/envs/bachelor_tp_visuals/lib/python3.8/site-packages/spacy/util.py:877: UserWarning: [W095] Model 'pl_pipeline' (0.0.0) was trained with spaCy v3.4 and may not be 100% compatible with the current version (3.4.2). If you see errors or degraded performance, download a newer compatible model or retrain your custom model with the current spaCy version. For more details and available updates, run: python -m spacy validate\n",
      "  warnings.warn(warn_msg)\n"
     ]
    }
   ],
   "source": [
    "TEST_DB = \"../data/inzynierka-kpwr-test-3-full.spacy\"\n",
    "_temp_nlp = spacy.load(\"../runs/random_50i_50n_kpwr-full_1669041088f13043/models/model_2it_97spans.spacy\")\n",
    "test_corpus = tuple(Corpus(TEST_DB)(_temp_nlp))"
   ]
  },
  {
   "cell_type": "code",
   "execution_count": 5,
   "metadata": {},
   "outputs": [],
   "source": [
    "SPANS_KEY = \"sc\"\n",
    "label_idxs = {\"nam_liv_person\": 0, \"nam_loc_gpe_city\": 1,\n",
    "                \"nam_loc_gpe_country\": 2, \"O\": 3}\n",
    " # order of labels in the confusion matrix\n",
    "ticklabels = [\"nam_liv_person\", \"nam_loc_gpe_city\", \"nam_loc_gpe_country\", \"O\"]\n",
    "actual_short_labels = [\"osoba\", \"miasto\", \"kraj\", \"nieznane\"]\n",
    "predicted_short_labels = [\"osoba\", \"miasto\", \"kraj\"]\n",
    "\n",
    "def get_spans_confusion_matrix(test_corpus, predictions, spans_key, label_idxs):\n",
    "    n_labels = len(label_idxs)\n",
    "    cm = np.zeros(shape=(n_labels, n_labels))\n",
    "    for actual, pred in zip(test_corpus, predictions):\n",
    "        actual_spans = actual.to_dict()[\"doc_annotation\"][\"spans\"]\n",
    "        pred_spans = pred.spans\n",
    "        if not actual_spans or not pred_spans:\n",
    "            continue\n",
    "        for actual_span in actual_spans[spans_key]:\n",
    "            actual_label = actual_span[2]\n",
    "            found = False\n",
    "            for pred_span in pred_spans[spans_key]:\n",
    "                if actual_span[0] == pred_span.start_char \\\n",
    "                        and actual_span[1] == pred_span.end_char:\n",
    "                    pred_label = pred_span.label_\n",
    "                    cm[label_idxs[actual_label]][label_idxs[pred_label]] += 1\n",
    "                    found = True\n",
    "            if not found:\n",
    "                cm[label_idxs[actual_label]][label_idxs[\"O\"]] += 1\n",
    "    return cm"
   ]
  },
  {
   "attachments": {},
   "cell_type": "markdown",
   "metadata": {},
   "source": [
    "## ROC-AUC curve for least confidence sampling strategy based models"
   ]
  },
  {
   "cell_type": "code",
   "execution_count": 6,
   "metadata": {},
   "outputs": [
    {
     "name": "stderr",
     "output_type": "stream",
     "text": [
      "/tmp/ipykernel_24613/2922255399.py:24: RuntimeWarning: invalid value encountered in divide\n",
      "  TPR = TP / (TP+FN)\n"
     ]
    }
   ],
   "source": [
    "texts = [example.text for example in test_corpus]\n",
    "rand_recalls, rand_fpr = defaultdict(list), defaultdict(list)\n",
    "for rand_mname in os.listdir(RAND_MDIR):\n",
    "    rand_mpath = os.path.join(RAND_MDIR, rand_mname)\n",
    "    rand_nlp = spacy.load(rand_mpath)\n",
    "    with rand_nlp.select_pipes(enable=\"spancat\"):\n",
    "        rand_preds = rand_nlp.pipe(texts)\n",
    "    rand_cm = get_spans_confusion_matrix(test_corpus, rand_preds,\n",
    "                                          SPANS_KEY, label_idxs)\n",
    "    # rand_cm = np.delete(rand_cm, -1, axis=0)  # drop 'O' column\n",
    "    # rand_cm = np.delete(rand_cm, -1, axis=1)  # drop 'O' column\n",
    "\n",
    "    FP = rand_cm.sum(axis=0) - np.diag(rand_cm)\n",
    "    FN = rand_cm.sum(axis=1) - np.diag(rand_cm)\n",
    "    TP = np.diag(rand_cm)\n",
    "    TN = rand_cm.sum() - (FP + FN + TP)\n",
    "\n",
    "    FP = FP.astype(float)\n",
    "    FN = FN.astype(float)\n",
    "    TP = TP.astype(float)\n",
    "    TN = TN.astype(float)\n",
    "\n",
    "    # TPR <=> recall\n",
    "    TPR = TP / (TP+FN)\n",
    "    # Fall out or false positive rate\n",
    "    FPR = FP / (FP+TN)\n",
    "\n",
    "    TPR = TPR[:-1]\n",
    "    FPR = FPR[:-1]\n",
    "\n",
    "    for i, label in enumerate(predicted_short_labels):\n",
    "        rand_recalls[label].append(TPR[i])\n",
    "        rand_fpr[label].append(FPR[i])"
   ]
  },
  {
   "cell_type": "code",
   "execution_count": 7,
   "metadata": {},
   "outputs": [],
   "source": [
    "import pandas as pd\n",
    "\n",
    "df_rand_fpr = pd.DataFrame.from_dict(rand_fpr)\n",
    "df_rand_recalls = pd.DataFrame.from_dict(rand_recalls)\n",
    "# for fpr_col, recalls_col in zip(df_rand_fpr.columns, df_rand_recalls.columns):\n",
    "#     df_rand_fpr[fpr_col].fillna(df_rand_fpr[fpr_col].mean(), inplace=True)\n",
    "#     df_rand_recalls[recalls_col].fillna(df_rand_recalls[recalls_col].mean(), inplace=True)"
   ]
  },
  {
   "cell_type": "code",
   "execution_count": 8,
   "metadata": {},
   "outputs": [
    {
     "data": {
      "image/svg+xml": "<svg xmlns=\"http://www.w3.org/2000/svg\" version=\"1.1\" width=\"700\" height=\"700\"><defs><clipPath id=\"asBbnpuBChsv\"><path fill=\"none\" stroke=\"none\" d=\"M 53.5 60.5 L 695.5 60.5 L 695.5 654.5 L 53.5 654.5 L 53.5 60.5\"/></clipPath><clipPath id=\"vavyBnXbZCQL\"><path fill=\"none\" stroke=\"none\" d=\"M 53.5 60.5 L 695.5 60.5 L 695.5 654.5 L 53.5 654.5 L 53.5 60.5\"/></clipPath><clipPath id=\"JydnPeTxGIMh\"><path fill=\"none\" stroke=\"none\" d=\"M 53.5 60.5 L 695.5 60.5 L 695.5 654.5 L 53.5 654.5 L 53.5 60.5\"/></clipPath><clipPath id=\"oOtWqQRpkynS\"><path fill=\"none\" stroke=\"none\" d=\"M 53.5 60.5 L 695.5 60.5 L 695.5 654.5 L 53.5 654.5 L 53.5 60.5\"/></clipPath><clipPath id=\"OxJsVFgRaxOv\"><path fill=\"none\" stroke=\"none\" d=\"M 53.5 60.5 L 695.5 60.5 L 695.5 654.5 L 53.5 654.5 L 53.5 60.5\"/></clipPath><clipPath id=\"LtxTPKAagSUB\"><path fill=\"none\" stroke=\"none\" d=\"M 53.5 60.5 L 695.5 60.5 L 695.5 654.5 L 53.5 654.5 L 53.5 60.5\"/></clipPath><clipPath id=\"SoqqvJMFwJlA\"><path fill=\"none\" stroke=\"none\" d=\"M 53.5 60.5 L 695.5 60.5 L 695.5 654.5 L 53.5 654.5 L 53.5 60.5\"/></clipPath></defs><path fill=\"rgb(255,255,255)\" stroke=\"none\" paint-order=\"stroke\" d=\"M 0.5 0.5 L 700.5 0.5 L 700.5 700.5 L 0.5 700.5 L 0.5 0.5\" fill-opacity=\"1\"/><rect fill=\"#FFFFFF\" stroke=\"none\" x=\"53\" y=\"60\" width=\"642\" height=\"594\" transform=\"matrix(1, 0, 0, 1, 0.5, 0.5)\"/><path fill=\"rgb(255,255,255)\" stroke=\"none\" paint-order=\"stroke\" d=\"M 53.5 60.5 L 695.5 60.5 L 695.5 654.5 L 53.5 654.5 L 53.5 60.5\" fill-opacity=\"1\"/><path fill=\"none\" stroke=\"rgb(229,229,229)\" paint-order=\"fill\" d=\"M 53.5 60.5 L 695.5 60.5 L 695.5 654.5 L 53.5 654.5 L 53.5 60.5\" stroke-opacity=\"1\" stroke-linejoin=\"bevel\" stroke-miterlimit=\"10\" stroke-dasharray=\"\"/><path fill=\"none\" stroke=\"rgb(229,229,229)\" paint-order=\"fill\" d=\"M 82.5 654.5 L 82.5 60.5 M 199.5 654.5 L 199.5 60.5 M 316.5 654.5 L 316.5 60.5 M 432.5 654.5 L 432.5 60.5 M 549.5 654.5 L 549.5 60.5 M 666.5 654.5 L 666.5 60.5\" stroke-opacity=\"1\" stroke-linejoin=\"bevel\" stroke-miterlimit=\"10\" stroke-dasharray=\"\" clip-path=\"url(#asBbnpuBChsv)\"/><path fill=\"none\" stroke=\"rgb(229,229,229)\" paint-order=\"fill\" d=\"M 53.5 627.5 L 695.5 627.5 M 53.5 519.5 L 695.5 519.5 M 53.5 411.5 L 695.5 411.5 M 53.5 303.5 L 695.5 303.5 M 53.5 195.5 L 695.5 195.5 M 53.5 87.5 L 695.5 87.5\" stroke-opacity=\"1\" stroke-linejoin=\"bevel\" stroke-miterlimit=\"10\" stroke-dasharray=\"\" clip-path=\"url(#vavyBnXbZCQL)\"/><path fill=\"none\" stroke=\"rgb(11,132,165)\" paint-order=\"fill\" d=\"M 137.07614135742188 300.88250732421875 L 85.61835479736328 503.2773132324219 L 150.30718994140625 282.6738586425781 L 131.1956787109375 300.3134765625 L 120.1697998046875 336.1617431640625 L 89.2973403930664 435.7402648925781 L 104.73356628417969 344.6970520019531 L 97.38298797607422 423.79083251953125 L 87.82722473144531 449.396728515625 L 115.51136016845703 315.43682861328125 L 111.3490982055664 360.0605773925781 L 127.23979187011719 370.3029479980469 L 161.76930236816406 268.4483642578125 L 132.66578674316406 284.949951171875 L 92.9726333618164 437.44732666015625 L 158.20260620117188 298.03741455078125 L 114.20991516113281 349.24920654296875 L 88.56228637695312 485.2449951171875 L 117.60023498535156 325.4853210449219 L 93.70769500732422 452.81085205078125 L 87.09217071533203 448.8277282714844 L 82.68181610107422 627.5 L 111.3490982055664 366.31982421875 L 84.15193176269531 608.1533203125 L 82.68181610107422 626.3619384765625 L 128.6431884765625 571.1669921875 L 82.68181610107422 627.5 L 98.85310363769531 406.1512145996094 L 86.35710906982422 535.8877563476562 L 87.82722473144531 451.6728210449219 L 90.74714660644531 463.05322265625 L 121.59091186523438 308.61578369140625 L 82.68181610107422 624.6549072265625 L 82.68181610107422 627.5 L 92.23757934570312 484.67596435546875 L 117.14276123046875 313.969970703125 L 112.8192138671875 323.07427978515625 L 86.29342651367188 459.63909912109375 L 137.12550354003906 285.82110595703125 L 82.68181610107422 567.1838989257812 L 135.53944396972656 296.89935302734375 L 146.47122192382812 285.3105163574219 L 90.76746368408203 489.2281494140625 L 146.47122192382812 285.3105163574219 L 82.68181610107422 627.5 L 89.2973403930664 423.79083251953125 L 193.67562866210938 267.1210632324219 L 82.68181610107422 627.5 L 82.68181610107422 627.5 L 211.4992218017578 269.01739501953125 L 123.84508514404297 304.86566162109375\" stroke-opacity=\"1\" stroke-linejoin=\"bevel\" stroke-miterlimit=\"10\" stroke-width=\"2\" stroke-dasharray=\"\" clip-path=\"url(#JydnPeTxGIMh)\"/><path fill=\"none\" stroke=\"rgb(246,200,95)\" paint-order=\"fill\" d=\"M 82.68181610107422 627.5 L 97.84120178222656 431.47259521484375 L 83.12870788574219 521.22998046875 L 94.30091857910156 402.60296630859375 L 83.57559204101562 529.8798828125 L 83.57559204101562 555.8295288085938 L 83.57559204101562 602.7860107421875 L 88.9382553100586 479.21624755859375 L 82.68181610107422 627.5 L 105.83139038085938 331.05352783203125 L 83.12870788574219 565.715087890625 L 82.68181610107422 627.5 L 90.7258071899414 422.5454406738281 L 95.19469451904297 386.5389099121094 L 82.68181610107422 627.5 L 88.9334716796875 526.4041137695312 L 84.02043151855469 529.8798828125 L 82.68181610107422 627.5 L 109.82769775390625 367.95556640625 L 92.96025085449219 566.9508056640625 L 92.06647491455078 486.63043212890625 L 82.68181610107422 626.2642822265625 L 82.68181610107422 627.5 L 94.74781036376953 557.0652465820312 L 82.68181610107422 627.5 L 91.17269897460938 547.0485229492188 L 82.68181610107422 627.5 L 82.68181610107422 627.5 L 82.68181610107422 627.5 L 82.68181610107422 627.5 L 107.70757293701172 355.6549072265625 L 89.8265609741211 406.8150634765625 L 82.68181610107422 627.5 L 88.04447937011719 541.0011596679688 L 82.68181610107422 627.5 L 92.05929565429688 437.6369934082031 L 96.08847045898438 418.66705322265625 L 126.52096557617188 359.3450927734375 L 117.77106475830078 336.1681823730469 L 82.68181610107422 627.5 L 85.8100357055664 505.4451904296875 L 99.20404052734375 345.8143615722656 L 82.68181610107422 627.5 L 99.20404052734375 345.8143615722656 L 82.68181610107422 627.5 L 83.12870788574219 622.5571899414062 L 89.38002014160156 479.21624755859375 L 82.68181610107422 627.5 L 82.68181610107422 627.5 L 97.85279083251953 429.1814270019531 L 92.06647491455078 416.1956481933594\" stroke-opacity=\"1\" stroke-linejoin=\"bevel\" stroke-miterlimit=\"10\" stroke-width=\"2\" stroke-dasharray=\"\" clip-path=\"url(#oOtWqQRpkynS)\"/><path fill=\"none\" stroke=\"rgb(0,158,115)\" paint-order=\"fill\" d=\"M 82.68181610107422 553.38232421875 L 82.68181610107422 612.3739624023438 L 82.68181610107422 627.5 L 83.10291290283203 532.2058715820312 L 82.68181610107422 579.0966186523438 L 82.68181610107422 627.5 L 82.68181610107422 406.65966796875 L 82.68181610107422 627.5 L 82.68181610107422 627.5 L 83.10200500488281 409.1066589355469 L 85.20838165283203 465.6512756347656 L 82.68181610107422 439.544189453125 L 82.68181610107422 627.5 L 83.10291290283203 388.5083923339844 L 85.62947845458984 453.5504150390625 L 83.10260772705078 561.1312866210938 L 83.94509887695312 332.6810607910156 L 82.68181610107422 609.3487548828125 L 87.71316528320312 323.3947448730469 L 82.68181610107422 627.5 L 82.68181610107422 627.5 L 82.68181610107422 627.5 L 82.68181610107422 500.441162109375 L 82.68181610107422 627.5 L 82.68181610107422 627.5 L 82.68181610107422 627.5 L 82.68181610107422 627.5 L 82.68181610107422 560.9453735351562 L 82.68181610107422 571.5336303710938 L 84.78728485107422 468.6764831542969 L 83.10230255126953 627.5 L 91.51205444335938 296.239501953125 L 82.68181610107422 627.5 L 82.68181610107422 627.5 L 82.68181610107422 627.5 L 83.10260772705078 440.4609069824219 L 83.10291290283203 358.2563171386719 L 83.52278900146484 456.2804870605469 L 82.68181610107422 489.88226318359375 L 82.68181610107422 627.5 L 90.25605010986328 352.20587158203125 L 82.68181610107422 627.5 L 82.68181610107422 627.5 L 82.68181610107422 627.5 L 82.68181610107422 603.29833984375 L 82.68181610107422 579.0966186523438 L 82.68181610107422 627.5 L 82.68181610107422 627.5 L 82.68181610107422 627.5 L 82.68181610107422 474.0738220214844 L 82.68181610107422 458.0882263183594\" stroke-opacity=\"1\" stroke-linejoin=\"bevel\" stroke-miterlimit=\"10\" stroke-width=\"2\" stroke-dasharray=\"\" clip-path=\"url(#OxJsVFgRaxOv)\"/><path fill=\"none\" stroke=\"rgb(128,128,128)\" paint-order=\"fill\" d=\"M 82.68181610107422 627.5 L 374.5 357.5 L 666.3181762695312 87.5\" stroke-opacity=\"0.8\" stroke-linejoin=\"bevel\" stroke-miterlimit=\"10\" stroke-width=\"2\" stroke-dasharray=\"6\" clip-path=\"url(#LtxTPKAagSUB)\"/><path fill=\"none\" stroke=\"rgb(0,0,0)\" paint-order=\"fill\" d=\"M 53.5 654.5 L 695.5 654.5\" stroke-opacity=\"1\" stroke-linejoin=\"bevel\" stroke-miterlimit=\"10\" stroke-dasharray=\"\"/><path fill=\"none\" stroke=\"rgb(0,0,0)\" paint-order=\"fill\" d=\"M 82.5 660.5 L 82.5 652.5 M 199.5 660.5 L 199.5 652.5 M 316.5 660.5 L 316.5 652.5 M 432.5 660.5 L 432.5 652.5 M 549.5 660.5 L 549.5 652.5 M 666.5 660.5 L 666.5 652.5\" stroke-opacity=\"1\" stroke-linejoin=\"bevel\" stroke-miterlimit=\"10\" stroke-dasharray=\"\"/><path fill=\"none\" stroke=\"rgb(0,0,0)\" paint-order=\"fill\" d=\"M 59.5 658.5 L 59.5 654.5 M 82.5 658.5 L 82.5 654.5 M 106.5 658.5 L 106.5 654.5 M 129.5 658.5 L 129.5 654.5 M 152.5 658.5 L 152.5 654.5 M 176.5 658.5 L 176.5 654.5 M 199.5 658.5 L 199.5 654.5 M 222.5 658.5 L 222.5 654.5 M 246.5 658.5 L 246.5 654.5 M 269.5 658.5 L 269.5 654.5 M 292.5 658.5 L 292.5 654.5 M 316.5 658.5 L 316.5 654.5 M 339.5 658.5 L 339.5 654.5 M 362.5 658.5 L 362.5 654.5 M 386.5 658.5 L 386.5 654.5 M 409.5 658.5 L 409.5 654.5 M 432.5 658.5 L 432.5 654.5 M 456.5 658.5 L 456.5 654.5 M 479.5 658.5 L 479.5 654.5 M 502.5 658.5 L 502.5 654.5 M 526.5 658.5 L 526.5 654.5 M 549.5 658.5 L 549.5 654.5 M 572.5 658.5 L 572.5 654.5 M 596.5 658.5 L 596.5 654.5 M 619.5 658.5 L 619.5 654.5 M 642.5 658.5 L 642.5 654.5 M 666.5 658.5 L 666.5 654.5 M 689.5 658.5 L 689.5 654.5\" stroke-opacity=\"1\" stroke-linejoin=\"bevel\" stroke-miterlimit=\"10\" stroke-dasharray=\"\"/><text fill=\"rgb(68,68,68)\" stroke=\"none\" font-family=\"helvetica\" font-size=\"11px\" font-style=\"normal\" font-weight=\"normal\" text-decoration=\"normal\" x=\"79.1234827041626\" y=\"673\" text-anchor=\"start\" dominant-baseline=\"alphabetic\" transform=\"matrix(1, 0, 0, 1, 0.5, 0.5)\" fill-opacity=\"1\">0</text><text fill=\"none\" stroke=\"rgb(0,0,0)\" font-family=\"helvetica\" font-size=\"11px\" font-style=\"normal\" font-weight=\"normal\" text-decoration=\"normal\" x=\"79.1234827041626\" y=\"673\" text-anchor=\"start\" dominant-baseline=\"alphabetic\" transform=\"matrix(1, 0, 0, 1, 0.5, 0.5)\" stroke-opacity=\"0\" stroke-linejoin=\"bevel\" stroke-miterlimit=\"10\" stroke-dasharray=\"\">0</text><text fill=\"rgb(68,68,68)\" stroke=\"none\" font-family=\"helvetica\" font-size=\"11px\" font-style=\"normal\" font-weight=\"normal\" text-decoration=\"normal\" x=\"191.26742124557495\" y=\"673\" text-anchor=\"start\" dominant-baseline=\"alphabetic\" transform=\"matrix(1, 0, 0, 1, 0.5, 0.5)\" fill-opacity=\"1\">0.2</text><text fill=\"none\" stroke=\"rgb(0,0,0)\" font-family=\"helvetica\" font-size=\"11px\" font-style=\"normal\" font-weight=\"normal\" text-decoration=\"normal\" x=\"191.26742124557495\" y=\"673\" text-anchor=\"start\" dominant-baseline=\"alphabetic\" transform=\"matrix(1, 0, 0, 1, 0.5, 0.5)\" stroke-opacity=\"0\" stroke-linejoin=\"bevel\" stroke-miterlimit=\"10\" stroke-dasharray=\"\">0.2</text><text fill=\"rgb(68,68,68)\" stroke=\"none\" font-family=\"helvetica\" font-size=\"11px\" font-style=\"normal\" font-weight=\"normal\" text-decoration=\"normal\" x=\"307.9946856498718\" y=\"673\" text-anchor=\"start\" dominant-baseline=\"alphabetic\" transform=\"matrix(1, 0, 0, 1, 0.5, 0.5)\" fill-opacity=\"1\">0.4</text><text fill=\"none\" stroke=\"rgb(0,0,0)\" font-family=\"helvetica\" font-size=\"11px\" font-style=\"normal\" font-weight=\"normal\" text-decoration=\"normal\" x=\"307.9946856498718\" y=\"673\" text-anchor=\"start\" dominant-baseline=\"alphabetic\" transform=\"matrix(1, 0, 0, 1, 0.5, 0.5)\" stroke-opacity=\"0\" stroke-linejoin=\"bevel\" stroke-miterlimit=\"10\" stroke-dasharray=\"\">0.4</text><text fill=\"rgb(68,68,68)\" stroke=\"none\" font-family=\"helvetica\" font-size=\"11px\" font-style=\"normal\" font-weight=\"normal\" text-decoration=\"normal\" x=\"424.7219805717468\" y=\"673\" text-anchor=\"start\" dominant-baseline=\"alphabetic\" transform=\"matrix(1, 0, 0, 1, 0.5, 0.5)\" fill-opacity=\"1\">0.6</text><text fill=\"none\" stroke=\"rgb(0,0,0)\" font-family=\"helvetica\" font-size=\"11px\" font-style=\"normal\" font-weight=\"normal\" text-decoration=\"normal\" x=\"424.7219805717468\" y=\"673\" text-anchor=\"start\" dominant-baseline=\"alphabetic\" transform=\"matrix(1, 0, 0, 1, 0.5, 0.5)\" stroke-opacity=\"0\" stroke-linejoin=\"bevel\" stroke-miterlimit=\"10\" stroke-dasharray=\"\">0.6</text><text fill=\"rgb(68,68,68)\" stroke=\"none\" font-family=\"helvetica\" font-size=\"11px\" font-style=\"normal\" font-weight=\"normal\" text-decoration=\"normal\" x=\"541.4492144584656\" y=\"673\" text-anchor=\"start\" dominant-baseline=\"alphabetic\" transform=\"matrix(1, 0, 0, 1, 0.5, 0.5)\" fill-opacity=\"1\">0.8</text><text fill=\"none\" stroke=\"rgb(0,0,0)\" font-family=\"helvetica\" font-size=\"11px\" font-style=\"normal\" font-weight=\"normal\" text-decoration=\"normal\" x=\"541.4492144584656\" y=\"673\" text-anchor=\"start\" dominant-baseline=\"alphabetic\" transform=\"matrix(1, 0, 0, 1, 0.5, 0.5)\" stroke-opacity=\"0\" stroke-linejoin=\"bevel\" stroke-miterlimit=\"10\" stroke-dasharray=\"\">0.8</text><text fill=\"rgb(68,68,68)\" stroke=\"none\" font-family=\"helvetica\" font-size=\"11px\" font-style=\"normal\" font-weight=\"normal\" text-decoration=\"normal\" x=\"662.7598428726196\" y=\"673\" text-anchor=\"start\" dominant-baseline=\"alphabetic\" transform=\"matrix(1, 0, 0, 1, 0.5, 0.5)\" fill-opacity=\"1\">1</text><text fill=\"none\" stroke=\"rgb(0,0,0)\" font-family=\"helvetica\" font-size=\"11px\" font-style=\"normal\" font-weight=\"normal\" text-decoration=\"normal\" x=\"662.7598428726196\" y=\"673\" text-anchor=\"start\" dominant-baseline=\"alphabetic\" transform=\"matrix(1, 0, 0, 1, 0.5, 0.5)\" stroke-opacity=\"0\" stroke-linejoin=\"bevel\" stroke-miterlimit=\"10\" stroke-dasharray=\"\">1</text><text fill=\"rgb(68,68,68)\" stroke=\"none\" font-family=\"helvetica\" font-size=\"13px\" font-style=\"italic\" font-weight=\"normal\" text-decoration=\"normal\" x=\"361.00833320617676\" y=\"694\" text-anchor=\"start\" dominant-baseline=\"alphabetic\" transform=\"matrix(1, 0, 0, 1, 0.5, 0.5)\" fill-opacity=\"1\">FPR</text><text fill=\"none\" stroke=\"rgb(0,0,0)\" font-family=\"helvetica\" font-size=\"13px\" font-style=\"italic\" font-weight=\"normal\" text-decoration=\"normal\" x=\"361.00833320617676\" y=\"694\" text-anchor=\"start\" dominant-baseline=\"alphabetic\" transform=\"matrix(1, 0, 0, 1, 0.5, 0.5)\" stroke-opacity=\"0\" stroke-linejoin=\"bevel\" stroke-miterlimit=\"10\" stroke-dasharray=\"\">FPR</text><path fill=\"none\" stroke=\"rgb(0,0,0)\" paint-order=\"fill\" d=\"M 53.5 654.5 L 53.5 60.5\" stroke-opacity=\"1\" stroke-linejoin=\"bevel\" stroke-miterlimit=\"10\" stroke-dasharray=\"\"/><path fill=\"none\" stroke=\"rgb(0,0,0)\" paint-order=\"fill\" d=\"M 47.5 627.5 L 55.5 627.5 M 47.5 519.5 L 55.5 519.5 M 47.5 411.5 L 55.5 411.5 M 47.5 303.5 L 55.5 303.5 M 47.5 195.5 L 55.5 195.5 M 47.5 87.5 L 55.5 87.5\" stroke-opacity=\"1\" stroke-linejoin=\"bevel\" stroke-miterlimit=\"10\" stroke-dasharray=\"\"/><path fill=\"none\" stroke=\"rgb(0,0,0)\" paint-order=\"fill\" d=\"M 49.5 649.5 L 53.5 649.5 M 49.5 627.5 L 53.5 627.5 M 49.5 605.5 L 53.5 605.5 M 49.5 584.5 L 53.5 584.5 M 49.5 562.5 L 53.5 562.5 M 49.5 541.5 L 53.5 541.5 M 49.5 519.5 L 53.5 519.5 M 49.5 497.5 L 53.5 497.5 M 49.5 476.5 L 53.5 476.5 M 49.5 454.5 L 53.5 454.5 M 49.5 433.5 L 53.5 433.5 M 49.5 411.5 L 53.5 411.5 M 49.5 389.5 L 53.5 389.5 M 49.5 368.5 L 53.5 368.5 M 49.5 346.5 L 53.5 346.5 M 49.5 325.5 L 53.5 325.5 M 49.5 303.5 L 53.5 303.5 M 49.5 281.5 L 53.5 281.5 M 49.5 260.5 L 53.5 260.5 M 49.5 238.5 L 53.5 238.5 M 49.5 217.5 L 53.5 217.5 M 49.5 195.5 L 53.5 195.5 M 49.5 173.5 L 53.5 173.5 M 49.5 152.5 L 53.5 152.5 M 49.5 130.5 L 53.5 130.5 M 49.5 109.5 L 53.5 109.5 M 49.5 87.5 L 53.5 87.5 M 49.5 65.5 L 53.5 65.5\" stroke-opacity=\"1\" stroke-linejoin=\"bevel\" stroke-miterlimit=\"10\" stroke-dasharray=\"\"/><text fill=\"rgb(68,68,68)\" stroke=\"none\" font-family=\"helvetica\" font-size=\"11px\" font-style=\"normal\" font-weight=\"normal\" text-decoration=\"normal\" x=\"35.88333320617676\" y=\"631\" text-anchor=\"start\" dominant-baseline=\"alphabetic\" transform=\"matrix(1, 0, 0, 1, 0.5, 0.5)\" fill-opacity=\"1\">0</text><text fill=\"none\" stroke=\"rgb(0,0,0)\" font-family=\"helvetica\" font-size=\"11px\" font-style=\"normal\" font-weight=\"normal\" text-decoration=\"normal\" x=\"35.88333320617676\" y=\"631\" text-anchor=\"start\" dominant-baseline=\"alphabetic\" transform=\"matrix(1, 0, 0, 1, 0.5, 0.5)\" stroke-opacity=\"0\" stroke-linejoin=\"bevel\" stroke-miterlimit=\"10\" stroke-dasharray=\"\">0</text><text fill=\"rgb(68,68,68)\" stroke=\"none\" font-family=\"helvetica\" font-size=\"11px\" font-style=\"normal\" font-weight=\"normal\" text-decoration=\"normal\" x=\"26.716666221618652\" y=\"523\" text-anchor=\"start\" dominant-baseline=\"alphabetic\" transform=\"matrix(1, 0, 0, 1, 0.5, 0.5)\" fill-opacity=\"1\">0.2</text><text fill=\"none\" stroke=\"rgb(0,0,0)\" font-family=\"helvetica\" font-size=\"11px\" font-style=\"normal\" font-weight=\"normal\" text-decoration=\"normal\" x=\"26.716666221618652\" y=\"523\" text-anchor=\"start\" dominant-baseline=\"alphabetic\" transform=\"matrix(1, 0, 0, 1, 0.5, 0.5)\" stroke-opacity=\"0\" stroke-linejoin=\"bevel\" stroke-miterlimit=\"10\" stroke-dasharray=\"\">0.2</text><text fill=\"rgb(68,68,68)\" stroke=\"none\" font-family=\"helvetica\" font-size=\"11px\" font-style=\"normal\" font-weight=\"normal\" text-decoration=\"normal\" x=\"26.716666221618652\" y=\"415\" text-anchor=\"start\" dominant-baseline=\"alphabetic\" transform=\"matrix(1, 0, 0, 1, 0.5, 0.5)\" fill-opacity=\"1\">0.4</text><text fill=\"none\" stroke=\"rgb(0,0,0)\" font-family=\"helvetica\" font-size=\"11px\" font-style=\"normal\" font-weight=\"normal\" text-decoration=\"normal\" x=\"26.716666221618652\" y=\"415\" text-anchor=\"start\" dominant-baseline=\"alphabetic\" transform=\"matrix(1, 0, 0, 1, 0.5, 0.5)\" stroke-opacity=\"0\" stroke-linejoin=\"bevel\" stroke-miterlimit=\"10\" stroke-dasharray=\"\">0.4</text><text fill=\"rgb(68,68,68)\" stroke=\"none\" font-family=\"helvetica\" font-size=\"11px\" font-style=\"normal\" font-weight=\"normal\" text-decoration=\"normal\" x=\"26.716666221618652\" y=\"307\" text-anchor=\"start\" dominant-baseline=\"alphabetic\" transform=\"matrix(1, 0, 0, 1, 0.5, 0.5)\" fill-opacity=\"1\">0.6</text><text fill=\"none\" stroke=\"rgb(0,0,0)\" font-family=\"helvetica\" font-size=\"11px\" font-style=\"normal\" font-weight=\"normal\" text-decoration=\"normal\" x=\"26.716666221618652\" y=\"307\" text-anchor=\"start\" dominant-baseline=\"alphabetic\" transform=\"matrix(1, 0, 0, 1, 0.5, 0.5)\" stroke-opacity=\"0\" stroke-linejoin=\"bevel\" stroke-miterlimit=\"10\" stroke-dasharray=\"\">0.6</text><text fill=\"rgb(68,68,68)\" stroke=\"none\" font-family=\"helvetica\" font-size=\"11px\" font-style=\"normal\" font-weight=\"normal\" text-decoration=\"normal\" x=\"26.716666221618652\" y=\"199\" text-anchor=\"start\" dominant-baseline=\"alphabetic\" transform=\"matrix(1, 0, 0, 1, 0.5, 0.5)\" fill-opacity=\"1\">0.8</text><text fill=\"none\" stroke=\"rgb(0,0,0)\" font-family=\"helvetica\" font-size=\"11px\" font-style=\"normal\" font-weight=\"normal\" text-decoration=\"normal\" x=\"26.716666221618652\" y=\"199\" text-anchor=\"start\" dominant-baseline=\"alphabetic\" transform=\"matrix(1, 0, 0, 1, 0.5, 0.5)\" stroke-opacity=\"0\" stroke-linejoin=\"bevel\" stroke-miterlimit=\"10\" stroke-dasharray=\"\">0.8</text><text fill=\"rgb(68,68,68)\" stroke=\"none\" font-family=\"helvetica\" font-size=\"11px\" font-style=\"normal\" font-weight=\"normal\" text-decoration=\"normal\" x=\"35.88333320617676\" y=\"91\" text-anchor=\"start\" dominant-baseline=\"alphabetic\" transform=\"matrix(1, 0, 0, 1, 0.5, 0.5)\" fill-opacity=\"1\">1</text><text fill=\"none\" stroke=\"rgb(0,0,0)\" font-family=\"helvetica\" font-size=\"11px\" font-style=\"normal\" font-weight=\"normal\" text-decoration=\"normal\" x=\"35.88333320617676\" y=\"91\" text-anchor=\"start\" dominant-baseline=\"alphabetic\" transform=\"matrix(1, 0, 0, 1, 0.5, 0.5)\" stroke-opacity=\"0\" stroke-linejoin=\"bevel\" stroke-miterlimit=\"10\" stroke-dasharray=\"\">1</text><text fill=\"rgb(68,68,68)\" stroke=\"none\" font-family=\"helvetica\" font-size=\"13px\" font-style=\"italic\" font-weight=\"normal\" text-decoration=\"normal\" x=\"5.72499942779541\" y=\"354\" text-anchor=\"start\" dominant-baseline=\"alphabetic\" transform=\"matrix(6.123233995736766e-17, -1, 1, 6.123233995736766e-17, -337.78333377838135, 376.21666622161865)\" fill-opacity=\"1\">TPR</text><text fill=\"none\" stroke=\"rgb(0,0,0)\" font-family=\"helvetica\" font-size=\"13px\" font-style=\"italic\" font-weight=\"normal\" text-decoration=\"normal\" x=\"5.72499942779541\" y=\"354\" text-anchor=\"start\" dominant-baseline=\"alphabetic\" transform=\"matrix(6.123233995736766e-17, -1, 1, 6.123233995736766e-17, -337.78333377838135, 376.21666622161865)\" stroke-opacity=\"0\" stroke-linejoin=\"bevel\" stroke-miterlimit=\"10\" stroke-dasharray=\"\">TPR</text><path fill=\"rgb(255,255,255)\" stroke=\"rgb(229,229,229)\" paint-order=\"fill\" d=\"M 249.65833282470703 10.5 L 499.34166717529297 10.5 L 499.34166717529297 50.5 L 249.65833282470703 50.5 L 249.65833282470703 10.5\" fill-opacity=\"0.9490196078431372\" stroke-opacity=\"0.5019607843137255\" stroke-linejoin=\"bevel\" stroke-miterlimit=\"10\" stroke-dasharray=\"\"/><text fill=\"rgb(68,68,68)\" stroke=\"none\" font-family=\"helvetica\" font-size=\"13px\" font-style=\"normal\" font-weight=\"normal\" text-decoration=\"normal\" x=\"284.15833282470703\" y=\"30\" text-anchor=\"start\" dominant-baseline=\"central\" transform=\"matrix(1, 0, 0, 1, 0.5, 0.5)\" fill-opacity=\"1\">osoba</text><path fill=\"none\" stroke=\"rgb(11,132,165)\" paint-order=\"fill\" d=\"M 259.65833282470703 30.5 L 279.65833282470703 30.5\" stroke-opacity=\"1\" stroke-linejoin=\"bevel\" stroke-miterlimit=\"10\" stroke-width=\"2\" stroke-dasharray=\"\"/><text fill=\"rgb(68,68,68)\" stroke=\"none\" font-family=\"helvetica\" font-size=\"13px\" font-style=\"normal\" font-weight=\"normal\" text-decoration=\"normal\" x=\"374.59166717529297\" y=\"30\" text-anchor=\"start\" dominant-baseline=\"central\" transform=\"matrix(1, 0, 0, 1, 0.5, 0.5)\" fill-opacity=\"1\">miasto</text><path fill=\"none\" stroke=\"rgb(246,200,95)\" paint-order=\"fill\" d=\"M 350.09166717529297 30.5 L 370.09166717529297 30.5\" stroke-opacity=\"1\" stroke-linejoin=\"bevel\" stroke-miterlimit=\"10\" stroke-width=\"2\" stroke-dasharray=\"\"/><text fill=\"rgb(68,68,68)\" stroke=\"none\" font-family=\"helvetica\" font-size=\"13px\" font-style=\"normal\" font-weight=\"normal\" text-decoration=\"normal\" x=\"467.8916664123535\" y=\"30\" text-anchor=\"start\" dominant-baseline=\"central\" transform=\"matrix(1, 0, 0, 1, 0.5, 0.5)\" fill-opacity=\"1\">kraj</text><path fill=\"none\" stroke=\"rgb(0,158,115)\" paint-order=\"fill\" d=\"M 443.3916664123535 30.5 L 463.3916664123535 30.5\" stroke-opacity=\"1\" stroke-linejoin=\"bevel\" stroke-miterlimit=\"10\" stroke-width=\"2\" stroke-dasharray=\"\"/><path fill=\"rgb(255,255,255)\" stroke=\"rgb(229,229,229)\" paint-order=\"fill\" d=\"M 249.65833282470703 10.5 L 499.34166717529297 10.5 L 499.34166717529297 50.5 L 249.65833282470703 50.5 L 249.65833282470703 10.5\" fill-opacity=\"0.9490196078431372\" stroke-opacity=\"0.5019607843137255\" stroke-linejoin=\"bevel\" stroke-miterlimit=\"10\" stroke-dasharray=\"\"/><text fill=\"rgb(68,68,68)\" stroke=\"none\" font-family=\"helvetica\" font-size=\"13px\" font-style=\"normal\" font-weight=\"normal\" text-decoration=\"normal\" x=\"284.15833282470703\" y=\"30\" text-anchor=\"start\" dominant-baseline=\"central\" transform=\"matrix(1, 0, 0, 1, 0.5, 0.5)\" fill-opacity=\"1\">osoba</text><path fill=\"none\" stroke=\"rgb(11,132,165)\" paint-order=\"fill\" d=\"M 259.65833282470703 30.5 L 279.65833282470703 30.5\" stroke-opacity=\"1\" stroke-linejoin=\"bevel\" stroke-miterlimit=\"10\" stroke-width=\"2\" stroke-dasharray=\"\"/><text fill=\"rgb(68,68,68)\" stroke=\"none\" font-family=\"helvetica\" font-size=\"13px\" font-style=\"normal\" font-weight=\"normal\" text-decoration=\"normal\" x=\"374.59166717529297\" y=\"30\" text-anchor=\"start\" dominant-baseline=\"central\" transform=\"matrix(1, 0, 0, 1, 0.5, 0.5)\" fill-opacity=\"1\">miasto</text><path fill=\"none\" stroke=\"rgb(246,200,95)\" paint-order=\"fill\" d=\"M 350.09166717529297 30.5 L 370.09166717529297 30.5\" stroke-opacity=\"1\" stroke-linejoin=\"bevel\" stroke-miterlimit=\"10\" stroke-width=\"2\" stroke-dasharray=\"\"/><text fill=\"rgb(68,68,68)\" stroke=\"none\" font-family=\"helvetica\" font-size=\"13px\" font-style=\"normal\" font-weight=\"normal\" text-decoration=\"normal\" x=\"467.8916664123535\" y=\"30\" text-anchor=\"start\" dominant-baseline=\"central\" transform=\"matrix(1, 0, 0, 1, 0.5, 0.5)\" fill-opacity=\"1\">kraj</text><path fill=\"none\" stroke=\"rgb(0,158,115)\" paint-order=\"fill\" d=\"M 443.3916664123535 30.5 L 463.3916664123535 30.5\" stroke-opacity=\"1\" stroke-linejoin=\"bevel\" stroke-miterlimit=\"10\" stroke-width=\"2\" stroke-dasharray=\"\"/></svg>",
      "text/plain": [
       "<IPython.core.display.SVG object>"
      ]
     },
     "metadata": {},
     "output_type": "display_data"
    }
   ],
   "source": [
    "p = figure(x_axis_label=\"FPR\",\n",
    "           y_axis_label=\"TPR\",\n",
    "           width=700,\n",
    "           height=700,\n",
    "           output_backend=\"svg\")\n",
    "\n",
    "colors = [\"#0B84A5\", \"#F6C85F\", \"#009E73\"]\n",
    "for i, label in enumerate(predicted_short_labels):\n",
    "    p.line(df_rand_fpr[label], df_rand_recalls[label],\n",
    "           legend_label=label, color=colors[i], line_width=2, line_dash=\"solid\")\n",
    "\n",
    "diag_line_x = np.linspace(0, 1, num=len(rand_recalls))\n",
    "p.line(diag_line_x, diag_line_x,\n",
    "       line_width=2, line_dash=\"dashed\", line_alpha=0.8, color=\"gray\")\n",
    "\n",
    "p.legend[0].orientation = \"horizontal\"\n",
    "p.legend[0].location = \"bottom_center\"\n",
    "p.add_layout(p.legend[0], \"above\")\n",
    "p.legend[0].spacing = 30\n",
    "\n",
    "# show(p)\n",
    "\n",
    "out_path = FIGURES_DIR / f\"03_threshold_rand_pl_roc_auc_{ITERATIONS}it_{N_INSTANCES}n.svg\"\n",
    "p.toolbar_location = None\n",
    "export_svg(p, filename=out_path)\n",
    "display(SVG(filename=out_path))"
   ]
  },
  {
   "cell_type": "code",
   "execution_count": null,
   "metadata": {},
   "outputs": [],
   "source": []
  },
  {
   "cell_type": "code",
   "execution_count": null,
   "metadata": {},
   "outputs": [],
   "source": []
  }
 ],
 "metadata": {
  "kernelspec": {
   "display_name": "Python 3.8.0 ('bachelor_tp_visuals')",
   "language": "python",
   "name": "python3"
  },
  "language_info": {
   "codemirror_mode": {
    "name": "ipython",
    "version": 3
   },
   "file_extension": ".py",
   "mimetype": "text/x-python",
   "name": "python",
   "nbconvert_exporter": "python",
   "pygments_lexer": "ipython3",
   "version": "3.8.0 | packaged by conda-forge | (default, Nov 22 2019, 19:11:38) \n[GCC 7.3.0]"
  },
  "orig_nbformat": 4,
  "vscode": {
   "interpreter": {
    "hash": "f990454114ec40012f61138adc3fdd606994f0e49c1ee311f2e2638563ceaf32"
   }
  }
 },
 "nbformat": 4,
 "nbformat_minor": 2
}
